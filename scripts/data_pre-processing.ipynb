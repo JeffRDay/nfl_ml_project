{
 "cells": [
  {
   "cell_type": "code",
   "execution_count": null,
   "metadata": {},
   "outputs": [],
   "source": [
    "import pandas as pd"
   ]
  },
  {
   "cell_type": "markdown",
   "metadata": {},
   "source": [
    "# Data Preparation\n",
    "\n",
    "Following the CRISP-DM process for data mining, the contents of this jupyter notebook includes the steps taken for data preparation."
   ]
  },
  {
   "cell_type": "markdown",
   "metadata": {},
   "source": [
    "## Data Selection\n",
    "\n",
    "The dataframes are created from the data used by the project team for this project.\n",
    "\n",
    "### Rational for including this data\n",
    "\n",
    "### Rational for excluding remaining csv files"
   ]
  },
  {
   "cell_type": "code",
   "execution_count": null,
   "metadata": {},
   "outputs": [],
   "source": [
    "df1 = pd.read_csv(\"../prototype-data/Game_Logs_Runningback.csv\")\n",
    "df2 = pd.read_csv(\"../prototype-data/Game_Logs_Wide_Receiver_and_Tight_End.csv\")\n",
    "oline = pd.read_csv(\"../prototype-data/Game_Logs_Offensive_Line.csv\")"
   ]
  },
  {
   "cell_type": "code",
   "execution_count": null,
   "metadata": {},
   "outputs": [
    {
     "data": {
      "text/plain": [
       "<bound method NDFrame.describe of                Player Id           Name  Position  Year          Season  Week  \\\n",
       "0    bobbyfowler/2514295  Fowler, Bobby       NaN  1985  Regular Season     7   \n",
       "1    bobbyfowler/2514295  Fowler, Bobby       NaN  1985  Regular Season     8   \n",
       "2    bobbyfowler/2514295  Fowler, Bobby       NaN  1985  Regular Season     9   \n",
       "3    bobbyfowler/2514295  Fowler, Bobby       NaN  1985  Regular Season    10   \n",
       "4    bobbyfowler/2514295  Fowler, Bobby       NaN  1985  Regular Season    11   \n",
       "..                   ...            ...       ...   ...             ...   ...   \n",
       "234   garryjames/2517372   James, Garry       NaN  1986  Regular Season    12   \n",
       "235   garryjames/2517372   James, Garry       NaN  1986  Regular Season    13   \n",
       "236   garryjames/2517372   James, Garry       NaN  1986  Regular Season    14   \n",
       "237   garryjames/2517372   James, Garry       NaN  1986  Regular Season    15   \n",
       "238   garryjames/2517372   James, Garry       NaN  1986  Regular Season    16   \n",
       "\n",
       "    Game Date Home or Away Opponent Outcome  ... Yards Per Carry  \\\n",
       "0      20-Oct         Away      ATL       L  ...              --   \n",
       "1      27-Oct         Home      NYG       L  ...              --   \n",
       "2       3-Nov         Away      RAM       L  ...              --   \n",
       "3      10-Nov         Home      SEA       L  ...              --   \n",
       "4      17-Nov         Away       GB       L  ...               1   \n",
       "..        ...          ...      ...     ...  ...             ...   \n",
       "234    23-Nov         Away       TB       W  ...             4.5   \n",
       "235    27-Nov         Home       GB       L  ...             3.7   \n",
       "236     7-Dec         Away      PIT       L  ...             9.3   \n",
       "237    15-Dec         Home      CHI       L  ...             2.7   \n",
       "238    21-Dec         Home      ATL       L  ...             3.2   \n",
       "\n",
       "     Longest Rushing Run Rushing TDs Receptions Receiving Yards  \\\n",
       "0                     --          --         --              --   \n",
       "1                     --          --         --              --   \n",
       "2                     --          --          3              27   \n",
       "3                     --          --         --              --   \n",
       "4                      1           0         --              --   \n",
       "..                   ...         ...        ...             ...   \n",
       "234                  13T           1          3              14   \n",
       "235                   22           0          4              16   \n",
       "236                  60T           1          2               5   \n",
       "237                   11           0          1               7   \n",
       "238                    6           0          2              11   \n",
       "\n",
       "    Yards Per Reception Longest Reception Receiving TDs Fumbles Fumbles Lost  \n",
       "0                    --                --            --      --           --  \n",
       "1                    --                --            --      --           --  \n",
       "2                     9                10             0      --           --  \n",
       "3                    --                --            --      --           --  \n",
       "4                    --                --            --      --           --  \n",
       "..                  ...               ...           ...     ...          ...  \n",
       "234                 4.7                 8             0      --           --  \n",
       "235                   4                 6             0      --           --  \n",
       "236                 2.5                 3             0      --           --  \n",
       "237                   7                 7             0      --           --  \n",
       "238                 5.5                16             0      --           --  \n",
       "\n",
       "[239 rows x 25 columns]>"
      ]
     },
     "execution_count": 3,
     "metadata": {},
     "output_type": "execute_result"
    }
   ],
   "source": [
    "df1.describe"
   ]
  },
  {
   "cell_type": "code",
   "execution_count": null,
   "metadata": {},
   "outputs": [
    {
     "data": {
      "text/plain": [
       "<bound method NDFrame.describe of                Player Id           Name  Position  Year          Season  Week  \\\n",
       "0    floydraglin/2523695  Raglin, Floyd       NaN  1987  Regular Season     3   \n",
       "1    floydraglin/2523695  Raglin, Floyd       NaN  1987  Regular Season     4   \n",
       "2       joeadams/2532782     Adams, Joe       NaN  2014       Preseason     1   \n",
       "3       joeadams/2532782     Adams, Joe       NaN  2014       Preseason     2   \n",
       "4       joeadams/2532782     Adams, Joe       NaN  2014       Preseason     3   \n",
       "..                   ...            ...       ...   ...             ...   ...   \n",
       "206   billlarson/2519112   Larson, Bill       NaN  1975  Regular Season    11   \n",
       "207   billlarson/2519112   Larson, Bill       NaN  1975  Regular Season    12   \n",
       "208   billlarson/2519112   Larson, Bill       NaN  1975  Regular Season    13   \n",
       "209   billlarson/2519112   Larson, Bill       NaN  1975  Regular Season    14   \n",
       "210     markbell/2509361     Bell, Mark       NaN  1981  Regular Season     1   \n",
       "\n",
       "    Game Date Home or Away Opponent Outcome  ... Yards Per Reception  \\\n",
       "0       4-Oct         Away      SEA       L  ...                  --   \n",
       "1      11-Oct         Home       KC       W  ...                  --   \n",
       "2       9-Aug         Away      ARI       L  ...                  --   \n",
       "3      16-Aug         Home      ATL       W  ...                  --   \n",
       "4      23-Aug         Away      DEN       W  ...                  --   \n",
       "..        ...          ...      ...     ...  ...                 ...   \n",
       "206    30-Nov         Away      PHI       L  ...                  --   \n",
       "207     7-Dec         Home      HOU       L  ...                  --   \n",
       "208    14-Dec         Away      ATL       L  ...                  14   \n",
       "209    21-Dec         Home      NYG       L  ...                  --   \n",
       "210     6-Sep         Home      MIA       L  ...                  --   \n",
       "\n",
       "     Longest Reception Receiving TDs Rushing Attempts Rushing Yards  \\\n",
       "0                   --            --               --            --   \n",
       "1                   --            --               --            --   \n",
       "2                   --            --               --            --   \n",
       "3                   --             0               --            --   \n",
       "4                   --            --               --            --   \n",
       "..                 ...           ...              ...           ...   \n",
       "206                 --            --               --            --   \n",
       "207                 --            --               --            --   \n",
       "208                 24             0               --            --   \n",
       "209                 --            --               --            --   \n",
       "210                 --            --               --            --   \n",
       "\n",
       "    Yards Per Carry Longest Rushing Run Rushing TDs Fumbles Fumbles Lost  \n",
       "0                --                  --          --      --           --  \n",
       "1                --                  --          --      --           --  \n",
       "2                --                  --          --       1            0  \n",
       "3                --                  --          --      --           --  \n",
       "4                --                  --          --      --           --  \n",
       "..              ...                 ...         ...     ...          ...  \n",
       "206              --                  --          --      --           --  \n",
       "207              --                  --          --      --           --  \n",
       "208              --                  --          --      --           --  \n",
       "209              --                  --          --      --           --  \n",
       "210              --                  --          --      --           --  \n",
       "\n",
       "[211 rows x 25 columns]>"
      ]
     },
     "execution_count": 4,
     "metadata": {},
     "output_type": "execute_result"
    }
   ],
   "source": [
    "df2.describe"
   ]
  },
  {
   "cell_type": "code",
   "execution_count": null,
   "metadata": {},
   "outputs": [
    {
     "data": {
      "text/plain": [
       "<bound method NDFrame.describe of                     Player Id             Name Position  Year          Season  \\\n",
       "0            jeffnady/2541732       Nady, Jeff      NaN  2013       Preseason   \n",
       "1          chrisriley/2530729     Riley, Chris      NaN  2011       Preseason   \n",
       "2          chrisriley/2530729     Riley, Chris      NaN  2011       Preseason   \n",
       "3          chrisriley/2530729     Riley, Chris      NaN  2011       Preseason   \n",
       "4          chrisriley/2530729     Riley, Chris      NaN  2011       Preseason   \n",
       "...                       ...              ...      ...   ...             ...   \n",
       "130044  stephengoodin/2535931  Goodin, Stephen      NaN  2013  Regular Season   \n",
       "130045  stephengoodin/2535931  Goodin, Stephen      NaN  2012       Preseason   \n",
       "130046  stephengoodin/2535931  Goodin, Stephen      NaN  2012       Preseason   \n",
       "130047  stephengoodin/2535931  Goodin, Stephen      NaN  2012       Preseason   \n",
       "130048  stephengoodin/2535931  Goodin, Stephen      NaN  2012       Preseason   \n",
       "\n",
       "        Week Game Date Home or Away Opponent Outcome     Score  Games Played  \\\n",
       "0          2     08/15         Away      BAL       L  23 to 27             0   \n",
       "1          1     08/12         Away      DET       L   3 to 34             1   \n",
       "2          2     08/21         Away      NYJ       L   7 to 27             1   \n",
       "3          3     08/25         Home      CAR       W  24 to 13             1   \n",
       "4          4     09/01         Home      IND       L  13 to 17             1   \n",
       "...      ...       ...          ...      ...     ...       ...           ...   \n",
       "130044    17     12/29         Home      WAS       W   20 to 6             1   \n",
       "130045     1     08/10         Away      JAC       L  31 to 32             1   \n",
       "130046     2     08/18         Away      NYJ       W   26 to 3             1   \n",
       "130047     3     08/24         Home      CHI       L  17 to 20             0   \n",
       "130048     4     08/29         Home       NE       W    6 to 3             1   \n",
       "\n",
       "       Games Started  \n",
       "0                  0  \n",
       "1                  0  \n",
       "2                  0  \n",
       "3                  0  \n",
       "4                  0  \n",
       "...              ...  \n",
       "130044             0  \n",
       "130045             0  \n",
       "130046             0  \n",
       "130047             0  \n",
       "130048             0  \n",
       "\n",
       "[130049 rows x 13 columns]>"
      ]
     },
     "execution_count": 30,
     "metadata": {},
     "output_type": "execute_result"
    }
   ],
   "source": [
    "oline.describe"
   ]
  },
  {
   "cell_type": "markdown",
   "metadata": {},
   "source": [
    "## Data Cleaning"
   ]
  },
  {
   "cell_type": "markdown",
   "metadata": {},
   "source": [
    "## Construct Data"
   ]
  },
  {
   "cell_type": "markdown",
   "metadata": {},
   "source": [
    "### NOTE\n",
    "\n",
    "Given the differences between the feature sets in each file and the size of the dataset as a whole, we will need to approach the merging of the data iteratively. Meaning, creating an empty dataframe (called main in this notebook), adding applicabile features to the empty data frame, and then begin populating the dataframe with data. A governing mechanism can be implemented into the script to reduce risk a crash in the data adding process results in a loss of progress in creating the dataframe. In short, we must conduct a manual merge of datafiles for this project."
   ]
  },
  {
   "cell_type": "code",
   "execution_count": null,
   "metadata": {},
   "outputs": [
    {
     "name": "stdout",
     "output_type": "stream",
     "text": [
      "['Player Id', 'Name', 'Position', 'Year', 'Season', 'Week', 'Game Date', 'Home or Away', 'Opponent', 'Outcome', 'Score', 'Games Played', 'Games Started', 'Rushing Attempts', 'Rushing Yards', 'Yards Per Carry', 'Longest Rushing Run', 'Rushing TDs', 'Receptions', 'Receiving Yards', 'Yards Per Reception', 'Longest Reception', 'Receiving TDs', 'Fumbles', 'Fumbles Lost']\n"
     ]
    }
   ],
   "source": [
    "# column_names includes all the columns (features) from the Game_Logs_Runningback.csv and the Game_Logs_Wide_Receiver_and_Tight_End.csv files\n",
    "column_names = [\"Player Id\",\"Name\",\"Position\",\"Year\",\"Season\",\"Week\",\"Game Date\",\"Home or Away\",\"Opponent\",\"Outcome\",\"Score\",\"Games Played\",\"Games Started\",\"Rushing Attempts\",\"Rushing Yards\",\"Yards Per Carry\",\"Longest Rushing Run\",\"Rushing TDs\",\"Receptions\",\"Receiving Yards\",\"Yards Per Reception\",\"Longest Reception\",\"Receiving TDs\",\"Fumbles\",\"Fumbles Lost\"]\n",
    "\n",
    "wr_td_column_names = [\"Player Id\",\"Name\",\"Position\",\"Year\",\"Season\",\"Week\",\"Game Date\",\"Home or Away\",\"Opponent\",\"Outcome\",\"Score\",\"Games Played\",\"Games Started\",\"Receptions\",\"Receiving Yards\",\"Yards Per Reception\",\"Longest Reception\",\"Receiving TDs\",\"Rushing Attempts\",\"Rushing Yards\",\"Yards Per Carry\",\"Longest Rushing Run\",\"Rushing TDs\",\"Fumbles\",'Fumbles Lost']\n",
    "\n",
    "print(column_names)\n",
    "\n",
    "# verify column names is not missing any features from the wide recieve and tight end data set. if no features are missed, then this will generate no output.\n",
    "for column_name in column_names:\n",
    "    if column_name not in wr_td_column_names:\n",
    "        print(column_name)\n",
    "\n"
   ]
  },
  {
   "cell_type": "markdown",
   "metadata": {},
   "source": [
    "### NOTE\n",
    "\n",
    "To add additional features, each offensive and defensive player need adding as columns to column_names. To ensure we do not include duplicates, the names will be read in from the csv files and added to a python set data structure. sets do not allow for duplicates. the values contained in the set will then be added as columns to column_names."
   ]
  },
  {
   "cell_type": "code",
   "execution_count": null,
   "metadata": {},
   "outputs": [],
   "source": [
    "oline_set = {}\n",
    "for _, row in oline.iterrows():\n",
    "    # print(row['Player Id'])\n",
    "    oline_set[row['Name']] = row['Player Id']"
   ]
  },
  {
   "cell_type": "code",
   "execution_count": null,
   "metadata": {},
   "outputs": [],
   "source": [
    "# add olinemen names as features in column_names\n",
    "for name in oline_set:\n",
    "    # column_names.append(oline_set[name])\n",
    "    print(name)\n",
    "    "
   ]
  },
  {
   "cell_type": "code",
   "execution_count": null,
   "metadata": {},
   "outputs": [
    {
     "data": {
      "text/html": [
       "<div>\n",
       "<style scoped>\n",
       "    .dataframe tbody tr th:only-of-type {\n",
       "        vertical-align: middle;\n",
       "    }\n",
       "\n",
       "    .dataframe tbody tr th {\n",
       "        vertical-align: top;\n",
       "    }\n",
       "\n",
       "    .dataframe thead th {\n",
       "        text-align: right;\n",
       "    }\n",
       "</style>\n",
       "<table border=\"1\" class=\"dataframe\">\n",
       "  <thead>\n",
       "    <tr style=\"text-align: right;\">\n",
       "      <th></th>\n",
       "      <th>Player Id</th>\n",
       "      <th>Name</th>\n",
       "      <th>Position</th>\n",
       "      <th>Year</th>\n",
       "      <th>Season</th>\n",
       "      <th>Week</th>\n",
       "      <th>Game Date</th>\n",
       "      <th>Home or Away</th>\n",
       "      <th>Opponent</th>\n",
       "      <th>Outcome</th>\n",
       "      <th>...</th>\n",
       "      <th>charliedickey/2512899</th>\n",
       "      <th>robertwashington/2528307</th>\n",
       "      <th>tombaugh/2509184</th>\n",
       "      <th>jamesdexter/2500384</th>\n",
       "      <th>milesdieffenbach/2553708</th>\n",
       "      <th>tomwelter/2528520</th>\n",
       "      <th>joescibelli/2525169</th>\n",
       "      <th>jimreilly/2523939</th>\n",
       "      <th>samyoung/2508058</th>\n",
       "      <th>stephengoodin/2535931</th>\n",
       "    </tr>\n",
       "  </thead>\n",
       "  <tbody>\n",
       "  </tbody>\n",
       "</table>\n",
       "<p>0 rows × 6067 columns</p>\n",
       "</div>"
      ],
      "text/plain": [
       "Empty DataFrame\n",
       "Columns: [Player Id, Name, Position, Year, Season, Week, Game Date, Home or Away, Opponent, Outcome, Score, Games Played, Games Started, Rushing Attempts, Rushing Yards, Yards Per Carry, Longest Rushing Run, Rushing TDs, Receptions, Receiving Yards, Yards Per Reception, Longest Reception, Receiving TDs, Fumbles, Fumbles Lost, jeffnady/2541732, chrisriley/2530729, edellis/2500536, isaiahwilliams/2557450, danerandolph/2507719, timfoley/2514196, zanebeadles/496980, camerongoldberg/2507748, gregkindle/2518471, laremytunsil/2555201, caldixon/2500408, lamarmady/2539642, jayhagood/2500955, gregfeasel/2513891, toddsandham/2524884, zachfulton/2543862, davontewallace/2550510, t.j.johnson/2540251, mattmccants/2532905, taylorlewan/2550132, mikenewell/2502284, micktingelhoff/2527445, chrisdalman/2500274, georgefant/2556524, bartoates/2502333, howardbarbieri/2530662, jimlanger/2519060, dannykistler/2550576, johnwetzel/2539207, mikeutley/2503443, mattlehr/2504672, jeffolson/2542281, marcusjohnson/2506388, freddean/2512679, kaulananoa/2504279, jasonodom/2502339, brianthure/2503352, rogertaylor/2527113, jctretter/2540292, alexlewis/2555353, dennisnorman/2504623, glencampbell/2510974, trevorrobinson/2535842, rodneyhudson/2495171, roywatts/2531235, davereavis/2523822, curtdigiacomo/2512931, christianwesterman/2555131, miketaylor/2527106, claudeterrell/2506471, travisscott/2505117, bubbapena/2522969, johnchoma/2511449, tupepeko/2504607, jonjansen/2501362, georgelilja/2519506, tannerpurdum/2507549, danfowler/2514298, randyyoung/2529568, theodricwatson/2528369, dannugent/2522298, jefffaine/2505657, seanallen/2507991, johnurschel/2543845, royfoster/2500690, gregjerman/2504887, lucasnix/2535834, reesodhiambo/2555142, adrianmartinez/2507970, geraldperry/2502448, kelvindavis/2512586, orrinolsen/2522470, mikeverstegen/2503466, ryandiem/2504653, jeffsaturday/2502838, ...]\n",
       "Index: []\n",
       "\n",
       "[0 rows x 6067 columns]"
      ]
     },
     "execution_count": 40,
     "metadata": {},
     "output_type": "execute_result"
    }
   ],
   "source": [
    "# # add column_names to empty dataframe (da)\n",
    "# data = pd.DataFrame(columns=column_names)\n",
    "# data.set_index(\"Player Id\")\n",
    "# data"
   ]
  },
  {
   "cell_type": "markdown",
   "metadata": {},
   "source": [
    "### Note\n",
    "\n",
    "The dataframe is now structured and ready for data to be added."
   ]
  },
  {
   "cell_type": "code",
   "execution_count": null,
   "metadata": {},
   "outputs": [
    {
     "ename": "KeyboardInterrupt",
     "evalue": "",
     "output_type": "error",
     "traceback": [
      "\u001b[0;31m---------------------------------------------------------------------------\u001b[0m",
      "\u001b[0;31mKeyboardInterrupt\u001b[0m                         Traceback (most recent call last)",
      "\u001b[0;32m<ipython-input-39-9d9c5ce62bf7>\u001b[0m in \u001b[0;36m<module>\u001b[0;34m\u001b[0m\n\u001b[1;32m      5\u001b[0m     \u001b[0;31m# data.loc[]] = [row[\"Player Id\", row[\"Name\"],row[\"Position\"],row[\"Year\"],row[\"Season\"],row[\"Week\"],row[\"Game Date\"],row[\"Home or Away\"],row[\"Opponent\"],row[\"Outcome\"],row[\"Score\"],row[\"Games Played\"],row[\"Games Started\"],row[\"Rushing Attempts\"],row[\"Rushing Yards\"],row[\"Yards Per Carry\"],row[\"Longest Rushing Run\"],row[\"Rushing TDs\"],row[\"Receptions\"],row[\"Receiving Yards\"],row[\"Yards Per Reception\"],row[\"Longest Reception\"],row[\"Receiving TDs\"],row[\"Fumbles\"],row[\"Fumbles Lost\"]]\u001b[0m\u001b[0;34m\u001b[0m\u001b[0;34m\u001b[0m\u001b[0;34m\u001b[0m\u001b[0m\n\u001b[1;32m      6\u001b[0m \u001b[0;34m\u001b[0m\u001b[0m\n\u001b[0;32m----> 7\u001b[0;31m     data = data.append(\n\u001b[0m\u001b[1;32m      8\u001b[0m         \u001b[0;34m{\u001b[0m\u001b[0;34m\"Player Id\"\u001b[0m\u001b[0;34m:\u001b[0m \u001b[0mrow\u001b[0m\u001b[0;34m[\u001b[0m\u001b[0;34m\"Player Id\"\u001b[0m\u001b[0;34m]\u001b[0m\u001b[0;34m}\u001b[0m\u001b[0;34m,\u001b[0m \u001b[0mignore_index\u001b[0m\u001b[0;34m=\u001b[0m\u001b[0;32mTrue\u001b[0m\u001b[0;34m\u001b[0m\u001b[0;34m\u001b[0m\u001b[0m\n\u001b[1;32m      9\u001b[0m     )\n",
      "\u001b[0;32m/opt/conda/lib/python3.8/site-packages/pandas/core/frame.py\u001b[0m in \u001b[0;36mappend\u001b[0;34m(self, other, ignore_index, verify_integrity, sort)\u001b[0m\n\u001b[1;32m   7958\u001b[0m                 \u001b[0mcombined_columns\u001b[0m \u001b[0;34m=\u001b[0m \u001b[0mself\u001b[0m\u001b[0;34m.\u001b[0m\u001b[0mcolumns\u001b[0m\u001b[0;34m.\u001b[0m\u001b[0mastype\u001b[0m\u001b[0;34m(\u001b[0m\u001b[0mobject\u001b[0m\u001b[0;34m)\u001b[0m\u001b[0;34m.\u001b[0m\u001b[0mappend\u001b[0m\u001b[0;34m(\u001b[0m\u001b[0midx_diff\u001b[0m\u001b[0;34m)\u001b[0m\u001b[0;34m\u001b[0m\u001b[0;34m\u001b[0m\u001b[0m\n\u001b[1;32m   7959\u001b[0m             other = (\n\u001b[0;32m-> 7960\u001b[0;31m                 \u001b[0mother\u001b[0m\u001b[0;34m.\u001b[0m\u001b[0mreindex\u001b[0m\u001b[0;34m(\u001b[0m\u001b[0mcombined_columns\u001b[0m\u001b[0;34m,\u001b[0m \u001b[0mcopy\u001b[0m\u001b[0;34m=\u001b[0m\u001b[0;32mFalse\u001b[0m\u001b[0;34m)\u001b[0m\u001b[0;34m\u001b[0m\u001b[0;34m\u001b[0m\u001b[0m\n\u001b[0m\u001b[1;32m   7961\u001b[0m                 \u001b[0;34m.\u001b[0m\u001b[0mto_frame\u001b[0m\u001b[0;34m(\u001b[0m\u001b[0;34m)\u001b[0m\u001b[0;34m\u001b[0m\u001b[0;34m\u001b[0m\u001b[0m\n\u001b[1;32m   7962\u001b[0m                 \u001b[0;34m.\u001b[0m\u001b[0mT\u001b[0m\u001b[0;34m.\u001b[0m\u001b[0minfer_objects\u001b[0m\u001b[0;34m(\u001b[0m\u001b[0;34m)\u001b[0m\u001b[0;34m\u001b[0m\u001b[0;34m\u001b[0m\u001b[0m\n",
      "\u001b[0;32m/opt/conda/lib/python3.8/site-packages/pandas/core/frame.py\u001b[0m in \u001b[0;36mT\u001b[0;34m(self)\u001b[0m\n\u001b[1;32m   2927\u001b[0m     \u001b[0;34m@\u001b[0m\u001b[0mproperty\u001b[0m\u001b[0;34m\u001b[0m\u001b[0;34m\u001b[0m\u001b[0m\n\u001b[1;32m   2928\u001b[0m     \u001b[0;32mdef\u001b[0m \u001b[0mT\u001b[0m\u001b[0;34m(\u001b[0m\u001b[0mself\u001b[0m\u001b[0;34m)\u001b[0m \u001b[0;34m->\u001b[0m \u001b[0mDataFrame\u001b[0m\u001b[0;34m:\u001b[0m\u001b[0;34m\u001b[0m\u001b[0;34m\u001b[0m\u001b[0m\n\u001b[0;32m-> 2929\u001b[0;31m         \u001b[0;32mreturn\u001b[0m \u001b[0mself\u001b[0m\u001b[0;34m.\u001b[0m\u001b[0mtranspose\u001b[0m\u001b[0;34m(\u001b[0m\u001b[0;34m)\u001b[0m\u001b[0;34m\u001b[0m\u001b[0;34m\u001b[0m\u001b[0m\n\u001b[0m\u001b[1;32m   2930\u001b[0m \u001b[0;34m\u001b[0m\u001b[0m\n\u001b[1;32m   2931\u001b[0m     \u001b[0;31m# ----------------------------------------------------------------------\u001b[0m\u001b[0;34m\u001b[0m\u001b[0;34m\u001b[0m\u001b[0;34m\u001b[0m\u001b[0m\n",
      "\u001b[0;32m/opt/conda/lib/python3.8/site-packages/pandas/core/frame.py\u001b[0m in \u001b[0;36mtranspose\u001b[0;34m(self, copy, *args)\u001b[0m\n\u001b[1;32m   2919\u001b[0m             \u001b[0;32mif\u001b[0m \u001b[0mcopy\u001b[0m\u001b[0;34m:\u001b[0m\u001b[0;34m\u001b[0m\u001b[0;34m\u001b[0m\u001b[0m\n\u001b[1;32m   2920\u001b[0m                 \u001b[0mnew_values\u001b[0m \u001b[0;34m=\u001b[0m \u001b[0mnew_values\u001b[0m\u001b[0;34m.\u001b[0m\u001b[0mcopy\u001b[0m\u001b[0;34m(\u001b[0m\u001b[0;34m)\u001b[0m\u001b[0;34m\u001b[0m\u001b[0;34m\u001b[0m\u001b[0m\n\u001b[0;32m-> 2921\u001b[0;31m             result = self._constructor(\n\u001b[0m\u001b[1;32m   2922\u001b[0m                 \u001b[0mnew_values\u001b[0m\u001b[0;34m,\u001b[0m \u001b[0mindex\u001b[0m\u001b[0;34m=\u001b[0m\u001b[0mself\u001b[0m\u001b[0;34m.\u001b[0m\u001b[0mcolumns\u001b[0m\u001b[0;34m,\u001b[0m \u001b[0mcolumns\u001b[0m\u001b[0;34m=\u001b[0m\u001b[0mself\u001b[0m\u001b[0;34m.\u001b[0m\u001b[0mindex\u001b[0m\u001b[0;34m\u001b[0m\u001b[0;34m\u001b[0m\u001b[0m\n\u001b[1;32m   2923\u001b[0m             )\n",
      "\u001b[0;32m/opt/conda/lib/python3.8/site-packages/pandas/core/frame.py\u001b[0m in \u001b[0;36m__init__\u001b[0;34m(self, data, index, columns, dtype, copy)\u001b[0m\n\u001b[1;32m    556\u001b[0m                 \u001b[0mmgr\u001b[0m \u001b[0;34m=\u001b[0m \u001b[0minit_dict\u001b[0m\u001b[0;34m(\u001b[0m\u001b[0;34m{\u001b[0m\u001b[0mdata\u001b[0m\u001b[0;34m.\u001b[0m\u001b[0mname\u001b[0m\u001b[0;34m:\u001b[0m \u001b[0mdata\u001b[0m\u001b[0;34m}\u001b[0m\u001b[0;34m,\u001b[0m \u001b[0mindex\u001b[0m\u001b[0;34m,\u001b[0m \u001b[0mcolumns\u001b[0m\u001b[0;34m,\u001b[0m \u001b[0mdtype\u001b[0m\u001b[0;34m=\u001b[0m\u001b[0mdtype\u001b[0m\u001b[0;34m)\u001b[0m\u001b[0;34m\u001b[0m\u001b[0;34m\u001b[0m\u001b[0m\n\u001b[1;32m    557\u001b[0m             \u001b[0;32melse\u001b[0m\u001b[0;34m:\u001b[0m\u001b[0;34m\u001b[0m\u001b[0;34m\u001b[0m\u001b[0m\n\u001b[0;32m--> 558\u001b[0;31m                 \u001b[0mmgr\u001b[0m \u001b[0;34m=\u001b[0m \u001b[0minit_ndarray\u001b[0m\u001b[0;34m(\u001b[0m\u001b[0mdata\u001b[0m\u001b[0;34m,\u001b[0m \u001b[0mindex\u001b[0m\u001b[0;34m,\u001b[0m \u001b[0mcolumns\u001b[0m\u001b[0;34m,\u001b[0m \u001b[0mdtype\u001b[0m\u001b[0;34m=\u001b[0m\u001b[0mdtype\u001b[0m\u001b[0;34m,\u001b[0m \u001b[0mcopy\u001b[0m\u001b[0;34m=\u001b[0m\u001b[0mcopy\u001b[0m\u001b[0;34m)\u001b[0m\u001b[0;34m\u001b[0m\u001b[0;34m\u001b[0m\u001b[0m\n\u001b[0m\u001b[1;32m    559\u001b[0m \u001b[0;34m\u001b[0m\u001b[0m\n\u001b[1;32m    560\u001b[0m         \u001b[0;31m# For data is list-like, or Iterable (will consume into list)\u001b[0m\u001b[0;34m\u001b[0m\u001b[0;34m\u001b[0m\u001b[0;34m\u001b[0m\u001b[0m\n",
      "\u001b[0;32m/opt/conda/lib/python3.8/site-packages/pandas/core/internals/construction.py\u001b[0m in \u001b[0;36minit_ndarray\u001b[0;34m(values, index, columns, dtype, copy)\u001b[0m\n\u001b[1;32m    225\u001b[0m \u001b[0;34m\u001b[0m\u001b[0m\n\u001b[1;32m    226\u001b[0m             \u001b[0;31m# TODO: What about re-joining object columns?\u001b[0m\u001b[0;34m\u001b[0m\u001b[0;34m\u001b[0m\u001b[0;34m\u001b[0m\u001b[0m\n\u001b[0;32m--> 227\u001b[0;31m             block_values = [\n\u001b[0m\u001b[1;32m    228\u001b[0m                 \u001b[0mmake_block\u001b[0m\u001b[0;34m(\u001b[0m\u001b[0mdvals_list\u001b[0m\u001b[0;34m[\u001b[0m\u001b[0mn\u001b[0m\u001b[0;34m]\u001b[0m\u001b[0;34m,\u001b[0m \u001b[0mplacement\u001b[0m\u001b[0;34m=\u001b[0m\u001b[0;34m[\u001b[0m\u001b[0mn\u001b[0m\u001b[0;34m]\u001b[0m\u001b[0;34m,\u001b[0m \u001b[0mndim\u001b[0m\u001b[0;34m=\u001b[0m\u001b[0;36m2\u001b[0m\u001b[0;34m)\u001b[0m\u001b[0;34m\u001b[0m\u001b[0;34m\u001b[0m\u001b[0m\n\u001b[1;32m    229\u001b[0m                 \u001b[0;32mfor\u001b[0m \u001b[0mn\u001b[0m \u001b[0;32min\u001b[0m \u001b[0mrange\u001b[0m\u001b[0;34m(\u001b[0m\u001b[0mlen\u001b[0m\u001b[0;34m(\u001b[0m\u001b[0mdvals_list\u001b[0m\u001b[0;34m)\u001b[0m\u001b[0;34m)\u001b[0m\u001b[0;34m\u001b[0m\u001b[0;34m\u001b[0m\u001b[0m\n",
      "\u001b[0;32m/opt/conda/lib/python3.8/site-packages/pandas/core/internals/construction.py\u001b[0m in \u001b[0;36m<listcomp>\u001b[0;34m(.0)\u001b[0m\n\u001b[1;32m    226\u001b[0m             \u001b[0;31m# TODO: What about re-joining object columns?\u001b[0m\u001b[0;34m\u001b[0m\u001b[0;34m\u001b[0m\u001b[0;34m\u001b[0m\u001b[0m\n\u001b[1;32m    227\u001b[0m             block_values = [\n\u001b[0;32m--> 228\u001b[0;31m                 \u001b[0mmake_block\u001b[0m\u001b[0;34m(\u001b[0m\u001b[0mdvals_list\u001b[0m\u001b[0;34m[\u001b[0m\u001b[0mn\u001b[0m\u001b[0;34m]\u001b[0m\u001b[0;34m,\u001b[0m \u001b[0mplacement\u001b[0m\u001b[0;34m=\u001b[0m\u001b[0;34m[\u001b[0m\u001b[0mn\u001b[0m\u001b[0;34m]\u001b[0m\u001b[0;34m,\u001b[0m \u001b[0mndim\u001b[0m\u001b[0;34m=\u001b[0m\u001b[0;36m2\u001b[0m\u001b[0;34m)\u001b[0m\u001b[0;34m\u001b[0m\u001b[0;34m\u001b[0m\u001b[0m\n\u001b[0m\u001b[1;32m    229\u001b[0m                 \u001b[0;32mfor\u001b[0m \u001b[0mn\u001b[0m \u001b[0;32min\u001b[0m \u001b[0mrange\u001b[0m\u001b[0;34m(\u001b[0m\u001b[0mlen\u001b[0m\u001b[0;34m(\u001b[0m\u001b[0mdvals_list\u001b[0m\u001b[0;34m)\u001b[0m\u001b[0;34m)\u001b[0m\u001b[0;34m\u001b[0m\u001b[0;34m\u001b[0m\u001b[0m\n\u001b[1;32m    230\u001b[0m             ]\n",
      "\u001b[0;31mKeyboardInterrupt\u001b[0m: "
     ]
    }
   ],
   "source": [
    "# adding runningback data to dataframe.\n",
    "#\n",
    "#['Player Id', 'Name', 'Position', 'Year', 'Season', 'Week', 'Game Date', 'Home or Away', 'Opponent', 'Outcome', 'Score', 'Games Played', 'Games Started', 'Rushing Attempts', 'Rushing Yards', 'Yards Per Carry', 'Longest Rushing Run', 'Rushing TDs', 'Receptions', 'Receiving Yards', 'Yards Per Reception', 'Longest Reception', 'Receiving TDs', 'Fumbles', 'Fumbles Lost']\n",
    "# for i,row in df1.iterrows():\n",
    "#     # data.loc[]] = [row[\"Player Id\", row[\"Name\"],row[\"Position\"],row[\"Year\"],row[\"Season\"],row[\"Week\"],row[\"Game Date\"],row[\"Home or Away\"],row[\"Opponent\"],row[\"Outcome\"],row[\"Score\"],row[\"Games Played\"],row[\"Games Started\"],row[\"Rushing Attempts\"],row[\"Rushing Yards\"],row[\"Yards Per Carry\"],row[\"Longest Rushing Run\"],row[\"Rushing TDs\"],row[\"Receptions\"],row[\"Receiving Yards\"],row[\"Yards Per Reception\"],row[\"Longest Reception\"],row[\"Receiving TDs\"],row[\"Fumbles\"],row[\"Fumbles Lost\"]]\n",
    "#     print(i)\n",
    "#     data = data.append(\n",
    "#         {\"Player Id\": row[\"Player Id\"]}, ignore_index=True\n",
    "#     )\n",
    "    # d = {\"Player Id\", row[\"Player Id\"]}\n",
    "    # data.loc[len(data.index)] = [row[\"Player Id\"]]\n",
    "# data"
   ]
  },
  {
   "cell_type": "markdown",
   "metadata": {},
   "source": [
    "## Format Data"
   ]
  }
 ],
 "metadata": {
  "interpreter": {
   "hash": "98b0a9b7b4eaaa670588a142fd0a9b87eaafe866f1db4228be72b4211d12040f"
  },
  "kernelspec": {
   "display_name": "Python 3.8.8 64-bit ('base': conda)",
   "name": "python3"
  },
  "language_info": {
   "codemirror_mode": {
    "name": "ipython",
    "version": 3
   },
   "file_extension": ".py",
   "mimetype": "text/x-python",
   "name": "python",
   "nbconvert_exporter": "python",
   "pygments_lexer": "ipython3",
   "version": "3.9.2"
  },
  "orig_nbformat": 4
 },
 "nbformat": 4,
 "nbformat_minor": 2
}
