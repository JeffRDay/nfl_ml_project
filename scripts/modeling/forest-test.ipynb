{
 "cells": [
  {
   "cell_type": "code",
   "execution_count": 5,
   "metadata": {},
   "outputs": [
    {
     "name": "stderr",
     "output_type": "stream",
     "text": [
      "INFO ::: starting forest.py\n",
      "INFO ::: params LIMITER=1000, PATH=../../dist/20210712_214459_formatted-data.csv, ESTIMATORS=25\n",
      "INFO ::: read in 200596 records to data frame with 205 features\n",
      "INFO ::: will use 200 records for Random Forest Regression\n",
      "INFO ::: converting predictors and target to numpy arrays\n",
      "WARNING ::: starting Decision Tree - good luck.\n",
      "INFO ::: Random Forest Regression completed, results:\n",
      "INFO ::: ['Random Forest Regression, where n_estimators=25', '2.0198', '0.5183', '4.3482', '2.1315', '0.8617', '0.0571', '200', '12/08/21 13:58:41']\n",
      "INFO ::: updating reports.csv\n",
      "INFO ::: starting forest.py\n",
      "INFO ::: params LIMITER=1000, PATH=../../dist/20210712_214459_formatted-data.csv, ESTIMATORS=50\n"
     ]
    },
    {
     "name": "stdout",
     "output_type": "stream",
     "text": [
      "executed forest.py in : 2.0602595806121826\n"
     ]
    },
    {
     "name": "stderr",
     "output_type": "stream",
     "text": [
      "INFO ::: read in 200596 records to data frame with 205 features\n",
      "INFO ::: will use 200 records for Random Forest Regression\n",
      "INFO ::: converting predictors and target to numpy arrays\n",
      "WARNING ::: starting Decision Tree - good luck.\n",
      "INFO ::: Random Forest Regression completed, results:\n",
      "INFO ::: ['Random Forest Regression, where n_estimators=50', '1.9382', '0.5866', '4.1009', '2.6023', '0.8785', '0.0339', '200', '12/08/21 13:58:44']\n",
      "INFO ::: updating reports.csv\n",
      "INFO ::: starting forest.py\n",
      "INFO ::: params LIMITER=1000, PATH=../../dist/20210712_214459_formatted-data.csv, ESTIMATORS=100\n"
     ]
    },
    {
     "name": "stdout",
     "output_type": "stream",
     "text": [
      "executed forest.py in : 2.352900981903076\n"
     ]
    },
    {
     "name": "stderr",
     "output_type": "stream",
     "text": [
      "INFO ::: read in 200596 records to data frame with 205 features\n",
      "INFO ::: will use 200 records for Random Forest Regression\n",
      "INFO ::: converting predictors and target to numpy arrays\n",
      "WARNING ::: starting Decision Tree - good luck.\n",
      "INFO ::: Random Forest Regression completed, results:\n",
      "INFO ::: ['Random Forest Regression, where n_estimators=100', '1.9656', '0.5512', '4.1673', '2.2588', '0.8719', '0.0464', '200', '12/08/21 13:58:46']\n",
      "INFO ::: updating reports.csv\n",
      "INFO ::: starting forest.py\n",
      "INFO ::: params LIMITER=1000, PATH=../../dist/20210712_214459_formatted-data.csv, ESTIMATORS=150\n"
     ]
    },
    {
     "name": "stdout",
     "output_type": "stream",
     "text": [
      "executed forest.py in : 2.6653223037719727\n"
     ]
    },
    {
     "name": "stderr",
     "output_type": "stream",
     "text": [
      "INFO ::: read in 200596 records to data frame with 205 features\n",
      "INFO ::: will use 200 records for Random Forest Regression\n",
      "INFO ::: converting predictors and target to numpy arrays\n",
      "WARNING ::: starting Decision Tree - good luck.\n",
      "INFO ::: Random Forest Regression completed, results:\n",
      "INFO ::: ['Random Forest Regression, where n_estimators=150', '1.8720', '0.5520', '3.8091', '2.2061', '0.8851', '0.0384', '200', '12/08/21 13:58:49']\n",
      "INFO ::: updating reports.csv\n",
      "INFO ::: starting forest.py\n",
      "INFO ::: params LIMITER=1000, PATH=../../dist/20210712_214459_formatted-data.csv, ESTIMATORS=200\n"
     ]
    },
    {
     "name": "stdout",
     "output_type": "stream",
     "text": [
      "executed forest.py in : 3.0337002277374268\n"
     ]
    },
    {
     "name": "stderr",
     "output_type": "stream",
     "text": [
      "INFO ::: read in 200596 records to data frame with 205 features\n",
      "INFO ::: will use 200 records for Random Forest Regression\n",
      "INFO ::: converting predictors and target to numpy arrays\n",
      "WARNING ::: starting Decision Tree - good luck.\n",
      "INFO ::: Random Forest Regression completed, results:\n",
      "INFO ::: ['Random Forest Regression, where n_estimators=200', '1.8874', '0.5264', '3.8394', '2.1200', '0.8838', '0.0334', '200', '12/08/21 13:58:53']\n",
      "INFO ::: updating reports.csv\n",
      "INFO ::: starting forest.py\n",
      "INFO ::: params LIMITER=1000, PATH=../../dist/20210712_214459_formatted-data.csv, ESTIMATORS=250\n"
     ]
    },
    {
     "name": "stdout",
     "output_type": "stream",
     "text": [
      "executed forest.py in : 3.454578161239624\n"
     ]
    },
    {
     "name": "stderr",
     "output_type": "stream",
     "text": [
      "INFO ::: read in 200596 records to data frame with 205 features\n",
      "INFO ::: will use 200 records for Random Forest Regression\n",
      "INFO ::: converting predictors and target to numpy arrays\n",
      "WARNING ::: starting Decision Tree - good luck.\n",
      "INFO ::: Random Forest Regression completed, results:\n",
      "INFO ::: ['Random Forest Regression, where n_estimators=250', '1.8994', '0.5309', '3.8897', '2.1511', '0.8824', '0.0337', '200', '12/08/21 13:58:57']\n",
      "INFO ::: updating reports.csv\n",
      "INFO ::: starting forest.py\n",
      "INFO ::: params LIMITER=1000, PATH=../../dist/20210712_214459_formatted-data.csv, ESTIMATORS=300\n"
     ]
    },
    {
     "name": "stdout",
     "output_type": "stream",
     "text": [
      "executed forest.py in : 3.944584608078003\n"
     ]
    },
    {
     "name": "stderr",
     "output_type": "stream",
     "text": [
      "INFO ::: read in 200596 records to data frame with 205 features\n",
      "INFO ::: will use 200 records for Random Forest Regression\n",
      "INFO ::: converting predictors and target to numpy arrays\n",
      "WARNING ::: starting Decision Tree - good luck.\n",
      "INFO ::: Random Forest Regression completed, results:\n",
      "INFO ::: ['Random Forest Regression, where n_estimators=300', '1.9320', '0.5358', '4.0198', '2.2178', '0.8764', '0.0424', '200', '12/08/21 13:59:01']\n",
      "INFO ::: updating reports.csv\n",
      "INFO ::: starting forest.py\n",
      "INFO ::: params LIMITER=1000, PATH=../../dist/20210712_214459_formatted-data.csv, ESTIMATORS=350\n"
     ]
    },
    {
     "name": "stdout",
     "output_type": "stream",
     "text": [
      "executed forest.py in : 4.278236389160156\n"
     ]
    },
    {
     "name": "stderr",
     "output_type": "stream",
     "text": [
      "INFO ::: read in 200596 records to data frame with 205 features\n",
      "INFO ::: will use 200 records for Random Forest Regression\n",
      "INFO ::: converting predictors and target to numpy arrays\n",
      "WARNING ::: starting Decision Tree - good luck.\n",
      "INFO ::: Random Forest Regression completed, results:\n",
      "INFO ::: ['Random Forest Regression, where n_estimators=350', '1.8818', '0.5540', '3.8482', '2.3131', '0.8846', '0.0350', '200', '12/08/21 13:59:06']\n",
      "INFO ::: updating reports.csv\n"
     ]
    },
    {
     "name": "stdout",
     "output_type": "stream",
     "text": [
      "executed forest.py in : 4.9314374923706055\n",
      "start: %s, end:%s 12/08/21 13:58:38 12/08/21 13:58:38\n"
     ]
    }
   ],
   "source": [
    "from datetime import datetime\n",
    "now = datetime.now()\n",
    "current_time = now.strftime(\"%D %H:%M:%S\")\n",
    "\n",
    "\n",
    "for i in [25,50,100,150,200,250,300,350]:\n",
    "    %run forest.py -e $i\n",
    "\n",
    "end = datetime.now()\n",
    "end_time = now.strftime(\"%D %H:%M:%S\")\n",
    "\n",
    "print(\"start: %s, end:%s\", current_time, end_time)"
   ]
  }
 ],
 "metadata": {
  "interpreter": {
   "hash": "ac3fb6aff13dfbb5032192ec4d343075557d22c400527e20c4a164465d089651"
  },
  "kernelspec": {
   "display_name": "Python 3.8.5 64-bit ('base': conda)",
   "language": "python",
   "name": "python3"
  },
  "language_info": {
   "codemirror_mode": {
    "name": "ipython",
    "version": 3
   },
   "file_extension": ".py",
   "mimetype": "text/x-python",
   "name": "python",
   "nbconvert_exporter": "python",
   "pygments_lexer": "ipython3",
   "version": "3.8.5"
  },
  "orig_nbformat": 4
 },
 "nbformat": 4,
 "nbformat_minor": 2
}
