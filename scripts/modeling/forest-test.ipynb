{
 "cells": [
  {
   "cell_type": "markdown",
   "metadata": {},
   "source": [
    "# forest-test.ipynb\n",
    "\n",
    "used to identify best number of estimators value for data set. output/results saved as csv format in ../../runs/report.csv."
   ]
  },
  {
   "cell_type": "code",
   "execution_count": 1,
   "metadata": {},
   "outputs": [
    {
     "name": "stderr",
     "output_type": "stream",
     "text": [
      "INFO ::: starting forest.py\n",
      "INFO ::: params LIMITER=1000, PATH=../../dist/20210712_214459_formatted-data.csv, ESTIMATORS=25\n",
      "INFO ::: read in 200596 records to data frame with 205 features\n",
      "INFO ::: will use 200 records for Random Forest Regression\n",
      "INFO ::: converting predictors and target to numpy arrays\n",
      "WARNING ::: starting Random Forest Regression - good luck.\n",
      "INFO ::: Random Forest Regression completed, results:\n",
      "INFO ::: ['Random Forest Regression, where n_estimators=25', '2.0101', '0.6231', '4.4286', '2.7657', '0.8626', '0.0637', '200', '12/08/21 14:05:43']\n",
      "INFO ::: updating reports.csv\n",
      "INFO ::: starting forest.py\n",
      "INFO ::: params LIMITER=1000, PATH=../../dist/20210712_214459_formatted-data.csv, ESTIMATORS=50\n"
     ]
    },
    {
     "name": "stdout",
     "output_type": "stream",
     "text": [
      "executed forest.py in : 2.0584909915924072\n"
     ]
    },
    {
     "name": "stderr",
     "output_type": "stream",
     "text": [
      "INFO ::: read in 200596 records to data frame with 205 features\n",
      "INFO ::: will use 200 records for Random Forest Regression\n",
      "INFO ::: converting predictors and target to numpy arrays\n",
      "WARNING ::: starting Random Forest Regression - good luck.\n",
      "INFO ::: Random Forest Regression completed, results:\n",
      "INFO ::: ['Random Forest Regression, where n_estimators=50', '1.9147', '0.4859', '3.9022', '1.8642', '0.8763', '0.0488', '200', '12/08/21 14:05:45']\n",
      "INFO ::: updating reports.csv\n",
      "INFO ::: starting forest.py\n",
      "INFO ::: params LIMITER=1000, PATH=../../dist/20210712_214459_formatted-data.csv, ESTIMATORS=100\n"
     ]
    },
    {
     "name": "stdout",
     "output_type": "stream",
     "text": [
      "executed forest.py in : 2.316483497619629\n"
     ]
    },
    {
     "name": "stderr",
     "output_type": "stream",
     "text": [
      "INFO ::: read in 200596 records to data frame with 205 features\n",
      "INFO ::: will use 200 records for Random Forest Regression\n",
      "INFO ::: converting predictors and target to numpy arrays\n",
      "WARNING ::: starting Random Forest Regression - good luck.\n",
      "INFO ::: Random Forest Regression completed, results:\n",
      "INFO ::: ['Random Forest Regression, where n_estimators=100', '1.8939', '0.6157', '3.9660', '2.5956', '0.8840', '0.0376', '200', '12/08/21 14:05:48']\n",
      "INFO ::: updating reports.csv\n",
      "INFO ::: starting forest.py\n",
      "INFO ::: params LIMITER=1000, PATH=../../dist/20210712_214459_formatted-data.csv, ESTIMATORS=150\n"
     ]
    },
    {
     "name": "stdout",
     "output_type": "stream",
     "text": [
      "executed forest.py in : 2.663421154022217\n"
     ]
    },
    {
     "name": "stderr",
     "output_type": "stream",
     "text": [
      "INFO ::: read in 200596 records to data frame with 205 features\n",
      "INFO ::: will use 200 records for Random Forest Regression\n",
      "INFO ::: converting predictors and target to numpy arrays\n",
      "WARNING ::: starting Random Forest Regression - good luck.\n",
      "INFO ::: Random Forest Regression completed, results:\n",
      "INFO ::: ['Random Forest Regression, where n_estimators=150', '1.9039', '0.5946', '3.9782', '2.5531', '0.8829', '0.0353', '200', '12/08/21 14:05:51']\n",
      "INFO ::: updating reports.csv\n",
      "INFO ::: starting forest.py\n",
      "INFO ::: params LIMITER=1000, PATH=../../dist/20210712_214459_formatted-data.csv, ESTIMATORS=200\n"
     ]
    },
    {
     "name": "stdout",
     "output_type": "stream",
     "text": [
      "executed forest.py in : 3.141211748123169\n"
     ]
    },
    {
     "name": "stderr",
     "output_type": "stream",
     "text": [
      "INFO ::: read in 200596 records to data frame with 205 features\n",
      "INFO ::: will use 200 records for Random Forest Regression\n",
      "INFO ::: converting predictors and target to numpy arrays\n",
      "WARNING ::: starting Random Forest Regression - good luck.\n",
      "INFO ::: Random Forest Regression completed, results:\n",
      "INFO ::: ['Random Forest Regression, where n_estimators=200', '1.8953', '0.5071', '3.8493', '2.0604', '0.8819', '0.0352', '200', '12/08/21 14:05:55']\n",
      "INFO ::: updating reports.csv\n",
      "INFO ::: starting forest.py\n",
      "INFO ::: params LIMITER=1000, PATH=../../dist/20210712_214459_formatted-data.csv, ESTIMATORS=250\n"
     ]
    },
    {
     "name": "stdout",
     "output_type": "stream",
     "text": [
      "executed forest.py in : 3.5512046813964844\n"
     ]
    },
    {
     "name": "stderr",
     "output_type": "stream",
     "text": [
      "INFO ::: read in 200596 records to data frame with 205 features\n",
      "INFO ::: will use 200 records for Random Forest Regression\n",
      "INFO ::: converting predictors and target to numpy arrays\n",
      "WARNING ::: starting Random Forest Regression - good luck.\n",
      "INFO ::: Random Forest Regression completed, results:\n",
      "INFO ::: ['Random Forest Regression, where n_estimators=250', '1.8968', '0.5500', '3.9005', '2.3146', '0.8827', '0.0347', '200', '12/08/21 14:05:59']\n",
      "INFO ::: updating reports.csv\n",
      "INFO ::: starting forest.py\n",
      "INFO ::: params LIMITER=1000, PATH=../../dist/20210712_214459_formatted-data.csv, ESTIMATORS=300\n"
     ]
    },
    {
     "name": "stdout",
     "output_type": "stream",
     "text": [
      "executed forest.py in : 4.147988557815552\n"
     ]
    },
    {
     "name": "stderr",
     "output_type": "stream",
     "text": [
      "INFO ::: read in 200596 records to data frame with 205 features\n",
      "INFO ::: will use 200 records for Random Forest Regression\n",
      "INFO ::: converting predictors and target to numpy arrays\n",
      "WARNING ::: starting Random Forest Regression - good luck.\n",
      "INFO ::: Random Forest Regression completed, results:\n",
      "INFO ::: ['Random Forest Regression, where n_estimators=300', '1.9350', '0.5149', '4.0092', '2.1106', '0.8773', '0.0354', '200', '12/08/21 14:06:03']\n",
      "INFO ::: updating reports.csv\n",
      "INFO ::: starting forest.py\n",
      "INFO ::: params LIMITER=1000, PATH=../../dist/20210712_214459_formatted-data.csv, ESTIMATORS=350\n"
     ]
    },
    {
     "name": "stdout",
     "output_type": "stream",
     "text": [
      "executed forest.py in : 4.54068398475647\n"
     ]
    },
    {
     "name": "stderr",
     "output_type": "stream",
     "text": [
      "INFO ::: read in 200596 records to data frame with 205 features\n",
      "INFO ::: will use 200 records for Random Forest Regression\n",
      "INFO ::: converting predictors and target to numpy arrays\n",
      "WARNING ::: starting Random Forest Regression - good luck.\n",
      "INFO ::: Random Forest Regression completed, results:\n",
      "INFO ::: ['Random Forest Regression, where n_estimators=350', '1.9266', '0.5211', '3.9834', '2.1440', '0.8784', '0.0355', '200', '12/08/21 14:06:08']\n",
      "INFO ::: updating reports.csv\n"
     ]
    },
    {
     "name": "stdout",
     "output_type": "stream",
     "text": [
      "executed forest.py in : 4.795942306518555\n",
      "start: %s, end:%s 12/08/21 14:05:39 12/08/21 14:05:39\n"
     ]
    }
   ],
   "source": [
    "from datetime import datetime\n",
    "now = datetime.now()\n",
    "current_time = now.strftime(\"%D %H:%M:%S\")\n",
    "\n",
    "\n",
    "for i in [25,50,100,150,200,250,300,350]:\n",
    "    %run forest.py -e $i\n",
    "\n",
    "end = datetime.now()\n",
    "end_time = now.strftime(\"%D %H:%M:%S\")\n",
    "\n",
    "print(\"start: %s, end:%s\", current_time, end_time)"
   ]
  }
 ],
 "metadata": {
  "interpreter": {
   "hash": "ac3fb6aff13dfbb5032192ec4d343075557d22c400527e20c4a164465d089651"
  },
  "kernelspec": {
   "display_name": "Python 3.8.5 64-bit ('base': conda)",
   "language": "python",
   "name": "python3"
  },
  "language_info": {
   "codemirror_mode": {
    "name": "ipython",
    "version": 3
   },
   "file_extension": ".py",
   "mimetype": "text/x-python",
   "name": "python",
   "nbconvert_exporter": "python",
   "pygments_lexer": "ipython3",
   "version": "3.8.5"
  },
  "orig_nbformat": 4
 },
 "nbformat": 4,
 "nbformat_minor": 2
}
