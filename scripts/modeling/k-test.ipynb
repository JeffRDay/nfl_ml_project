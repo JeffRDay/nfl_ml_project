{
 "cells": [
  {
   "cell_type": "markdown",
   "metadata": {},
   "source": [
    "# k-test.ipynb\n",
    "\n",
    "used to identify best k value for data set. output/results saved as csv format in ../../runs/report.csv."
   ]
  },
  {
   "cell_type": "code",
   "execution_count": 1,
   "metadata": {},
   "outputs": [
    {
     "name": "stderr",
     "output_type": "stream",
     "text": [
      "INFO ::: starting knn.py\n",
      "INFO ::: params LIMITER=1000, K_VALUE=1, PATH=../../dist/20210712_214459_formatted-data.csv\n",
      "INFO ::: read in 200596 records to data frame with 205 features\n",
      "INFO ::: will use 200 records for MLP Classifier\n",
      "INFO ::: converting predictors and target to numpy arrays\n",
      "WARNING ::: starting KNN Regression - good luck.\n",
      "INFO ::: KNN Regression completed, results:\n",
      "INFO ::: ['KNN Regressor, where K = 1', '3.0416', '0.6953', '9.7350', '4.2872', '0.6790', '0.1309', '200', '12/08/21 14:01:38']\n",
      "INFO ::: updating reports.csv\n",
      "INFO ::: starting knn.py\n",
      "INFO ::: params LIMITER=1000, K_VALUE=2, PATH=../../dist/20210712_214459_formatted-data.csv\n"
     ]
    },
    {
     "name": "stdout",
     "output_type": "stream",
     "text": [
      "executed knn.py in : 1.9771881103515625\n"
     ]
    },
    {
     "name": "stderr",
     "output_type": "stream",
     "text": [
      "INFO ::: read in 200596 records to data frame with 205 features\n",
      "INFO ::: will use 200 records for MLP Classifier\n",
      "INFO ::: converting predictors and target to numpy arrays\n",
      "WARNING ::: starting KNN Regression - good luck.\n",
      "INFO ::: KNN Regression completed, results:\n",
      "INFO ::: ['KNN Regressor, where K = 2', '3.0341', '0.8948', '10.0062', '4.9744', '0.6800', '0.1682', '200', '12/08/21 14:01:40']\n",
      "INFO ::: updating reports.csv\n",
      "INFO ::: starting knn.py\n",
      "INFO ::: params LIMITER=1000, K_VALUE=3, PATH=../../dist/20210712_214459_formatted-data.csv\n"
     ]
    },
    {
     "name": "stdout",
     "output_type": "stream",
     "text": [
      "executed knn.py in : 2.0425281524658203\n"
     ]
    },
    {
     "name": "stderr",
     "output_type": "stream",
     "text": [
      "INFO ::: read in 200596 records to data frame with 205 features\n",
      "INFO ::: will use 200 records for MLP Classifier\n",
      "INFO ::: converting predictors and target to numpy arrays\n",
      "WARNING ::: starting KNN Regression - good luck.\n",
      "INFO ::: KNN Regression completed, results:\n",
      "INFO ::: ['KNN Regressor, where K = 3', '2.8754', '0.9360', '9.1439', '5.0326', '0.7133', '0.1556', '200', '12/08/21 14:01:42']\n",
      "INFO ::: updating reports.csv\n",
      "INFO ::: starting knn.py\n",
      "INFO ::: params LIMITER=1000, K_VALUE=4, PATH=../../dist/20210712_214459_formatted-data.csv\n"
     ]
    },
    {
     "name": "stdout",
     "output_type": "stream",
     "text": [
      "executed knn.py in : 1.7385966777801514\n"
     ]
    },
    {
     "name": "stderr",
     "output_type": "stream",
     "text": [
      "INFO ::: read in 200596 records to data frame with 205 features\n",
      "INFO ::: will use 200 records for MLP Classifier\n",
      "INFO ::: converting predictors and target to numpy arrays\n",
      "WARNING ::: starting KNN Regression - good luck.\n",
      "INFO ::: KNN Regression completed, results:\n",
      "INFO ::: ['KNN Regressor, where K = 4', '2.8584', '0.7836', '8.7844', '4.0423', '0.7185', '0.1341', '200', '12/08/21 14:01:44']\n",
      "INFO ::: updating reports.csv\n",
      "INFO ::: starting knn.py\n",
      "INFO ::: params LIMITER=1000, K_VALUE=5, PATH=../../dist/20210712_214459_formatted-data.csv\n"
     ]
    },
    {
     "name": "stdout",
     "output_type": "stream",
     "text": [
      "executed knn.py in : 1.863893747329712\n"
     ]
    },
    {
     "name": "stderr",
     "output_type": "stream",
     "text": [
      "INFO ::: read in 200596 records to data frame with 205 features\n",
      "INFO ::: will use 200 records for MLP Classifier\n",
      "INFO ::: converting predictors and target to numpy arrays\n",
      "WARNING ::: starting KNN Regression - good luck.\n",
      "INFO ::: KNN Regression completed, results:\n",
      "INFO ::: ['KNN Regressor, where K = 5', '2.9796', '0.7419', '9.4286', '4.4576', '0.7005', '0.1141', '200', '12/08/21 14:01:45']\n",
      "INFO ::: updating reports.csv\n",
      "INFO ::: starting knn.py\n",
      "INFO ::: params LIMITER=1000, K_VALUE=6, PATH=../../dist/20210712_214459_formatted-data.csv\n"
     ]
    },
    {
     "name": "stdout",
     "output_type": "stream",
     "text": [
      "executed knn.py in : 1.784254789352417\n"
     ]
    },
    {
     "name": "stderr",
     "output_type": "stream",
     "text": [
      "INFO ::: read in 200596 records to data frame with 205 features\n",
      "INFO ::: will use 200 records for MLP Classifier\n",
      "INFO ::: converting predictors and target to numpy arrays\n",
      "WARNING ::: starting KNN Regression - good luck.\n",
      "INFO ::: KNN Regression completed, results:\n",
      "INFO ::: ['KNN Regressor, where K = 6', '2.9434', '0.8263', '9.3463', '4.9494', '0.7079', '0.1225', '200', '12/08/21 14:01:47']\n",
      "INFO ::: updating reports.csv\n",
      "INFO ::: starting knn.py\n",
      "INFO ::: params LIMITER=1000, K_VALUE=7, PATH=../../dist/20210712_214459_formatted-data.csv\n"
     ]
    },
    {
     "name": "stdout",
     "output_type": "stream",
     "text": [
      "executed knn.py in : 1.8424806594848633\n"
     ]
    },
    {
     "name": "stderr",
     "output_type": "stream",
     "text": [
      "INFO ::: read in 200596 records to data frame with 205 features\n",
      "INFO ::: will use 200 records for MLP Classifier\n",
      "INFO ::: converting predictors and target to numpy arrays\n",
      "WARNING ::: starting KNN Regression - good luck.\n",
      "INFO ::: KNN Regression completed, results:\n",
      "INFO ::: ['KNN Regressor, where K = 7', '2.8734', '0.8391', '8.9606', '5.0858', '0.7184', '0.1314', '200', '12/08/21 14:01:49']\n",
      "INFO ::: updating reports.csv\n",
      "INFO ::: starting knn.py\n",
      "INFO ::: params LIMITER=1000, K_VALUE=8, PATH=../../dist/20210712_214459_formatted-data.csv\n"
     ]
    },
    {
     "name": "stdout",
     "output_type": "stream",
     "text": [
      "executed knn.py in : 1.6843609809875488\n"
     ]
    },
    {
     "name": "stderr",
     "output_type": "stream",
     "text": [
      "INFO ::: read in 200596 records to data frame with 205 features\n",
      "INFO ::: will use 200 records for MLP Classifier\n",
      "INFO ::: converting predictors and target to numpy arrays\n",
      "WARNING ::: starting KNN Regression - good luck.\n",
      "INFO ::: KNN Regression completed, results:\n",
      "INFO ::: ['KNN Regressor, where K = 8', '2.9270', '0.8751', '9.3331', '5.4598', '0.7110', '0.1272', '200', '12/08/21 14:01:51']\n",
      "INFO ::: updating reports.csv\n",
      "INFO ::: starting knn.py\n",
      "INFO ::: params LIMITER=1000, K_VALUE=9, PATH=../../dist/20210712_214459_formatted-data.csv\n"
     ]
    },
    {
     "name": "stdout",
     "output_type": "stream",
     "text": [
      "executed knn.py in : 1.6836810111999512\n"
     ]
    },
    {
     "name": "stderr",
     "output_type": "stream",
     "text": [
      "INFO ::: read in 200596 records to data frame with 205 features\n",
      "INFO ::: will use 200 records for MLP Classifier\n",
      "INFO ::: converting predictors and target to numpy arrays\n",
      "WARNING ::: starting KNN Regression - good luck.\n",
      "INFO ::: KNN Regression completed, results:\n",
      "INFO ::: ['KNN Regressor, where K = 9', '3.0105', '0.9698', '10.0038', '6.2036', '0.6935', '0.1457', '200', '12/08/21 14:01:52']\n",
      "INFO ::: updating reports.csv\n",
      "INFO ::: starting knn.py\n",
      "INFO ::: params LIMITER=1000, K_VALUE=10, PATH=../../dist/20210712_214459_formatted-data.csv\n"
     ]
    },
    {
     "name": "stdout",
     "output_type": "stream",
     "text": [
      "executed knn.py in : 1.6222319602966309\n"
     ]
    },
    {
     "name": "stderr",
     "output_type": "stream",
     "text": [
      "INFO ::: read in 200596 records to data frame with 205 features\n",
      "INFO ::: will use 200 records for MLP Classifier\n",
      "INFO ::: converting predictors and target to numpy arrays\n",
      "WARNING ::: starting KNN Regression - good luck.\n",
      "INFO ::: KNN Regression completed, results:\n",
      "INFO ::: ['KNN Regressor, where K = 10', '3.0636', '0.9965', '10.3785', '6.5165', '0.6818', '0.1549', '200', '12/08/21 14:01:54']\n",
      "INFO ::: updating reports.csv\n",
      "INFO ::: starting knn.py\n",
      "INFO ::: params LIMITER=1000, K_VALUE=11, PATH=../../dist/20210712_214459_formatted-data.csv\n"
     ]
    },
    {
     "name": "stdout",
     "output_type": "stream",
     "text": [
      "executed knn.py in : 1.6421122550964355\n"
     ]
    },
    {
     "name": "stderr",
     "output_type": "stream",
     "text": [
      "INFO ::: read in 200596 records to data frame with 205 features\n",
      "INFO ::: will use 200 records for MLP Classifier\n",
      "INFO ::: converting predictors and target to numpy arrays\n",
      "WARNING ::: starting KNN Regression - good luck.\n",
      "INFO ::: KNN Regression completed, results:\n",
      "INFO ::: ['KNN Regressor, where K = 11', '3.0666', '1.0148', '10.4340', '6.8170', '0.6869', '0.1365', '200', '12/08/21 14:01:56']\n",
      "INFO ::: updating reports.csv\n",
      "INFO ::: starting knn.py\n",
      "INFO ::: params LIMITER=1000, K_VALUE=12, PATH=../../dist/20210712_214459_formatted-data.csv\n"
     ]
    },
    {
     "name": "stdout",
     "output_type": "stream",
     "text": [
      "executed knn.py in : 1.6809847354888916\n"
     ]
    },
    {
     "name": "stderr",
     "output_type": "stream",
     "text": [
      "INFO ::: read in 200596 records to data frame with 205 features\n",
      "INFO ::: will use 200 records for MLP Classifier\n",
      "INFO ::: converting predictors and target to numpy arrays\n",
      "WARNING ::: starting KNN Regression - good luck.\n",
      "INFO ::: KNN Regression completed, results:\n",
      "INFO ::: ['KNN Regressor, where K = 12', '3.1286', '1.0380', '10.8653', '7.1934', '0.6781', '0.1277', '200', '12/08/21 14:01:57']\n",
      "INFO ::: updating reports.csv\n",
      "INFO ::: starting knn.py\n",
      "INFO ::: params LIMITER=1000, K_VALUE=13, PATH=../../dist/20210712_214459_formatted-data.csv\n"
     ]
    },
    {
     "name": "stdout",
     "output_type": "stream",
     "text": [
      "executed knn.py in : 1.6671817302703857\n"
     ]
    },
    {
     "name": "stderr",
     "output_type": "stream",
     "text": [
      "INFO ::: read in 200596 records to data frame with 205 features\n",
      "INFO ::: will use 200 records for MLP Classifier\n",
      "INFO ::: converting predictors and target to numpy arrays\n",
      "WARNING ::: starting KNN Regression - good luck.\n",
      "INFO ::: KNN Regression completed, results:\n",
      "INFO ::: ['KNN Regressor, where K = 13', '3.1837', '1.0337', '11.2043', '7.2490', '0.6677', '0.1256', '200', '12/08/21 14:01:59']\n",
      "INFO ::: updating reports.csv\n",
      "INFO ::: starting knn.py\n",
      "INFO ::: params LIMITER=1000, K_VALUE=14, PATH=../../dist/20210712_214459_formatted-data.csv\n"
     ]
    },
    {
     "name": "stdout",
     "output_type": "stream",
     "text": [
      "executed knn.py in : 1.7713768482208252\n"
     ]
    },
    {
     "name": "stderr",
     "output_type": "stream",
     "text": [
      "INFO ::: read in 200596 records to data frame with 205 features\n",
      "INFO ::: will use 200 records for MLP Classifier\n",
      "INFO ::: converting predictors and target to numpy arrays\n",
      "WARNING ::: starting KNN Regression - good luck.\n",
      "INFO ::: KNN Regression completed, results:\n",
      "INFO ::: ['KNN Regressor, where K = 14', '3.2517', '1.0598', '11.6964', '7.6421', '0.6560', '0.1218', '200', '12/08/21 14:02:01']\n",
      "INFO ::: updating reports.csv\n",
      "INFO ::: starting knn.py\n",
      "INFO ::: params LIMITER=1000, K_VALUE=15, PATH=../../dist/20210712_214459_formatted-data.csv\n"
     ]
    },
    {
     "name": "stdout",
     "output_type": "stream",
     "text": [
      "executed knn.py in : 1.7004287242889404\n"
     ]
    },
    {
     "name": "stderr",
     "output_type": "stream",
     "text": [
      "INFO ::: read in 200596 records to data frame with 205 features\n",
      "INFO ::: will use 200 records for MLP Classifier\n",
      "INFO ::: converting predictors and target to numpy arrays\n",
      "WARNING ::: starting KNN Regression - good luck.\n",
      "INFO ::: KNN Regression completed, results:\n",
      "INFO ::: ['KNN Regressor, where K = 15', '3.3016', '1.1311', '12.1802', '8.1366', '0.6461', '0.1328', '200', '12/08/21 14:02:03']\n",
      "INFO ::: updating reports.csv\n",
      "INFO ::: starting knn.py\n",
      "INFO ::: params LIMITER=1000, K_VALUE=16, PATH=../../dist/20210712_214459_formatted-data.csv\n"
     ]
    },
    {
     "name": "stdout",
     "output_type": "stream",
     "text": [
      "executed knn.py in : 1.646496295928955\n"
     ]
    },
    {
     "name": "stderr",
     "output_type": "stream",
     "text": [
      "INFO ::: read in 200596 records to data frame with 205 features\n",
      "INFO ::: will use 200 records for MLP Classifier\n",
      "INFO ::: converting predictors and target to numpy arrays\n",
      "WARNING ::: starting KNN Regression - good luck.\n",
      "INFO ::: KNN Regression completed, results:\n",
      "INFO ::: ['KNN Regressor, where K = 16', '3.3910', '1.1347', '12.7868', '8.2690', '0.6271', '0.1341', '200', '12/08/21 14:02:04']\n",
      "INFO ::: updating reports.csv\n",
      "INFO ::: starting knn.py\n",
      "INFO ::: params LIMITER=1000, K_VALUE=17, PATH=../../dist/20210712_214459_formatted-data.csv\n"
     ]
    },
    {
     "name": "stdout",
     "output_type": "stream",
     "text": [
      "executed knn.py in : 1.6852078437805176\n"
     ]
    },
    {
     "name": "stderr",
     "output_type": "stream",
     "text": [
      "INFO ::: read in 200596 records to data frame with 205 features\n",
      "INFO ::: will use 200 records for MLP Classifier\n",
      "INFO ::: converting predictors and target to numpy arrays\n",
      "WARNING ::: starting KNN Regression - good luck.\n",
      "INFO ::: KNN Regression completed, results:\n",
      "INFO ::: ['KNN Regressor, where K = 17', '3.4374', '1.1937', '13.2408', '8.8680', '0.6179', '0.1409', '200', '12/08/21 14:02:06']\n",
      "INFO ::: updating reports.csv\n",
      "INFO ::: starting knn.py\n",
      "INFO ::: params LIMITER=1000, K_VALUE=18, PATH=../../dist/20210712_214459_formatted-data.csv\n"
     ]
    },
    {
     "name": "stdout",
     "output_type": "stream",
     "text": [
      "executed knn.py in : 1.6909284591674805\n"
     ]
    },
    {
     "name": "stderr",
     "output_type": "stream",
     "text": [
      "INFO ::: read in 200596 records to data frame with 205 features\n",
      "INFO ::: will use 200 records for MLP Classifier\n",
      "INFO ::: converting predictors and target to numpy arrays\n",
      "WARNING ::: starting KNN Regression - good luck.\n",
      "INFO ::: KNN Regression completed, results:\n",
      "INFO ::: ['KNN Regressor, where K = 18', '3.5022', '1.1966', '13.6972', '9.0859', '0.6054', '0.1364', '200', '12/08/21 14:02:08']\n",
      "INFO ::: updating reports.csv\n",
      "INFO ::: starting knn.py\n",
      "INFO ::: params LIMITER=1000, K_VALUE=19, PATH=../../dist/20210712_214459_formatted-data.csv\n"
     ]
    },
    {
     "name": "stdout",
     "output_type": "stream",
     "text": [
      "executed knn.py in : 1.6652171611785889\n"
     ]
    },
    {
     "name": "stderr",
     "output_type": "stream",
     "text": [
      "INFO ::: read in 200596 records to data frame with 205 features\n",
      "INFO ::: will use 200 records for MLP Classifier\n",
      "INFO ::: converting predictors and target to numpy arrays\n",
      "WARNING ::: starting KNN Regression - good luck.\n",
      "INFO ::: KNN Regression completed, results:\n",
      "INFO ::: ['KNN Regressor, where K = 19', '3.5620', '1.2299', '14.2005', '9.5197', '0.5932', '0.1386', '200', '12/08/21 14:02:10']\n",
      "INFO ::: updating reports.csv\n",
      "INFO ::: starting knn.py\n",
      "INFO ::: params LIMITER=1000, K_VALUE=20, PATH=../../dist/20210712_214459_formatted-data.csv\n"
     ]
    },
    {
     "name": "stdout",
     "output_type": "stream",
     "text": [
      "executed knn.py in : 1.7871756553649902\n"
     ]
    },
    {
     "name": "stderr",
     "output_type": "stream",
     "text": [
      "INFO ::: read in 200596 records to data frame with 205 features\n",
      "INFO ::: will use 200 records for MLP Classifier\n",
      "INFO ::: converting predictors and target to numpy arrays\n",
      "WARNING ::: starting KNN Regression - good luck.\n",
      "INFO ::: KNN Regression completed, results:\n",
      "INFO ::: ['KNN Regressor, where K = 20', '3.6173', '1.2670', '14.6902', '10.0352', '0.5823', '0.1404', '200', '12/08/21 14:02:12']\n",
      "INFO ::: updating reports.csv\n",
      "INFO ::: starting knn.py\n",
      "INFO ::: params LIMITER=1000, K_VALUE=21, PATH=../../dist/20210712_214459_formatted-data.csv\n"
     ]
    },
    {
     "name": "stdout",
     "output_type": "stream",
     "text": [
      "executed knn.py in : 2.305626392364502\n"
     ]
    },
    {
     "name": "stderr",
     "output_type": "stream",
     "text": [
      "INFO ::: read in 200596 records to data frame with 205 features\n",
      "INFO ::: will use 200 records for MLP Classifier\n",
      "INFO ::: converting predictors and target to numpy arrays\n",
      "WARNING ::: starting KNN Regression - good luck.\n",
      "INFO ::: KNN Regression completed, results:\n",
      "INFO ::: ['KNN Regressor, where K = 21', '3.6560', '1.2869', '15.0228', '10.3028', '0.5749', '0.1398', '200', '12/08/21 14:02:14']\n",
      "INFO ::: updating reports.csv\n",
      "INFO ::: starting knn.py\n",
      "INFO ::: params LIMITER=1000, K_VALUE=22, PATH=../../dist/20210712_214459_formatted-data.csv\n"
     ]
    },
    {
     "name": "stdout",
     "output_type": "stream",
     "text": [
      "executed knn.py in : 1.9344093799591064\n"
     ]
    },
    {
     "name": "stderr",
     "output_type": "stream",
     "text": [
      "INFO ::: read in 200596 records to data frame with 205 features\n",
      "INFO ::: will use 200 records for MLP Classifier\n",
      "INFO ::: converting predictors and target to numpy arrays\n",
      "WARNING ::: starting KNN Regression - good luck.\n",
      "INFO ::: KNN Regression completed, results:\n",
      "INFO ::: ['KNN Regressor, where K = 22', '3.7335', '1.2921', '15.6081', '10.5129', '0.5575', '0.1383', '200', '12/08/21 14:02:16']\n",
      "INFO ::: updating reports.csv\n",
      "INFO ::: starting knn.py\n",
      "INFO ::: params LIMITER=1000, K_VALUE=23, PATH=../../dist/20210712_214459_formatted-data.csv\n"
     ]
    },
    {
     "name": "stdout",
     "output_type": "stream",
     "text": [
      "executed knn.py in : 1.9290308952331543\n"
     ]
    },
    {
     "name": "stderr",
     "output_type": "stream",
     "text": [
      "INFO ::: read in 200596 records to data frame with 205 features\n",
      "INFO ::: will use 200 records for MLP Classifier\n",
      "INFO ::: converting predictors and target to numpy arrays\n",
      "WARNING ::: starting KNN Regression - good luck.\n",
      "INFO ::: KNN Regression completed, results:\n",
      "INFO ::: ['KNN Regressor, where K = 23', '3.7854', '1.3094', '16.0434', '10.8974', '0.5464', '0.1378', '200', '12/08/21 14:02:18']\n",
      "INFO ::: updating reports.csv\n",
      "INFO ::: starting knn.py\n",
      "INFO ::: params LIMITER=1000, K_VALUE=24, PATH=../../dist/20210712_214459_formatted-data.csv\n"
     ]
    },
    {
     "name": "stdout",
     "output_type": "stream",
     "text": [
      "executed knn.py in : 2.1614222526550293\n"
     ]
    },
    {
     "name": "stderr",
     "output_type": "stream",
     "text": [
      "INFO ::: read in 200596 records to data frame with 205 features\n",
      "INFO ::: will use 200 records for MLP Classifier\n",
      "INFO ::: converting predictors and target to numpy arrays\n",
      "WARNING ::: starting KNN Regression - good luck.\n",
      "INFO ::: KNN Regression completed, results:\n",
      "INFO ::: ['KNN Regressor, where K = 24', '3.8340', '1.3200', '16.4416', '11.1441', '0.5349', '0.1393', '200', '12/08/21 14:02:20']\n",
      "INFO ::: updating reports.csv\n",
      "INFO ::: starting knn.py\n",
      "INFO ::: params LIMITER=1000, K_VALUE=25, PATH=../../dist/20210712_214459_formatted-data.csv\n"
     ]
    },
    {
     "name": "stdout",
     "output_type": "stream",
     "text": [
      "executed knn.py in : 1.9279959201812744\n"
     ]
    },
    {
     "name": "stderr",
     "output_type": "stream",
     "text": [
      "INFO ::: read in 200596 records to data frame with 205 features\n",
      "INFO ::: will use 200 records for MLP Classifier\n",
      "INFO ::: converting predictors and target to numpy arrays\n",
      "WARNING ::: starting KNN Regression - good luck.\n",
      "INFO ::: KNN Regression completed, results:\n",
      "INFO ::: ['KNN Regressor, where K = 25', '3.8856', '1.3312', '16.8696', '11.3895', '0.5223', '0.1414', '200', '12/08/21 14:02:22']\n",
      "INFO ::: updating reports.csv\n"
     ]
    },
    {
     "name": "stdout",
     "output_type": "stream",
     "text": [
      "executed knn.py in : 2.202831745147705\n",
      "start: %s, end:%s 12/08/21 14:01:34 12/08/21 14:01:34\n"
     ]
    }
   ],
   "source": [
    "from datetime import datetime\n",
    "now = datetime.now()\n",
    "current_time = now.strftime(\"%D %H:%M:%S\")\n",
    "\n",
    "\n",
    "for i in [1,2,3,4,5,6,7,8,9,10,11,12,13,14,15,16,17,18,19,20,21,22,23,24,25]:\n",
    "    %run knn.py -k $i\n",
    "\n",
    "end = datetime.now()\n",
    "end_time = now.strftime(\"%D %H:%M:%S\")\n",
    "\n",
    "print(\"start: %s, end:%s\", current_time, end_time)"
   ]
  }
 ],
 "metadata": {
  "interpreter": {
   "hash": "ac3fb6aff13dfbb5032192ec4d343075557d22c400527e20c4a164465d089651"
  },
  "kernelspec": {
   "display_name": "Python 3.8.5 64-bit ('base': conda)",
   "language": "python",
   "name": "python3"
  },
  "language_info": {
   "codemirror_mode": {
    "name": "ipython",
    "version": 3
   },
   "file_extension": ".py",
   "mimetype": "text/x-python",
   "name": "python",
   "nbconvert_exporter": "python",
   "pygments_lexer": "ipython3",
   "version": "3.8.5"
  },
  "orig_nbformat": 4
 },
 "nbformat": 4,
 "nbformat_minor": 2
}
