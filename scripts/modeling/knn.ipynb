{
 "cells": [
  {
   "cell_type": "code",
   "execution_count": 1,
   "metadata": {},
   "outputs": [],
   "source": [
    "'''\n",
    "Creates a K Nearest Neighbor (KNN) model. The model is trained\n",
    "using the csv data provided. Evaulation is conducted using\n",
    "5-fold cross validation. The model is serialized and saved at\n",
    "the end of execution regardless of performance.\n",
    "'''\n",
    "import argparse\n",
    "import csv\n",
    "import logging\n",
    "import math\n",
    "import time\n",
    "from datetime import datetime\n",
    "\n",
    "import pandas as pd\n",
    "import numpy as np\n",
    "from sklearn import neighbors, model_selection"
   ]
  },
  {
   "cell_type": "code",
   "execution_count": 2,
   "metadata": {},
   "outputs": [
    {
     "name": "stderr",
     "output_type": "stream",
     "text": [
      "usage: ipykernel_launcher.py [-h] [-l LIMITER] [-k K_VALUE] [-p PATH]\n",
      "ipykernel_launcher.py: error: unrecognized arguments: -f C:\\Users\\djjay\\AppData\\Roaming\\jupyter\\runtime\\kernel-821aae3e-19dd-4e74-ae18-df4f14efb757.json\n"
     ]
    },
    {
     "ename": "SystemExit",
     "evalue": "2",
     "output_type": "error",
     "traceback": [
      "An exception has occurred, use %tb to see the full traceback.\n",
      "\u001b[1;31mSystemExit\u001b[0m\u001b[1;31m:\u001b[0m 2\n"
     ]
    },
    {
     "name": "stderr",
     "output_type": "stream",
     "text": [
      "C:\\ProgramData\\Anaconda3\\lib\\site-packages\\IPython\\core\\interactiveshell.py:3426: UserWarning: To exit: use 'exit', 'quit', or Ctrl-D.\n",
      "  warn(\"To exit: use 'exit', 'quit', or Ctrl-D.\", stacklevel=1)\n"
     ]
    }
   ],
   "source": [
    "parser = argparse.ArgumentParser()\n",
    "parser.add_argument(\"-l\", \"--limiter\", dest = \"LIMITER\", type = int, default = 1000, help=\"rate limiter ::: len(data_size) / limiter\")\n",
    "parser.add_argument(\"-k\", \"--k-value\", dest = \"K_VALUE\", type = int, default = 5, help=\"set k value in knn\")\n",
    "parser.add_argument(\"-p\", \"--path\",dest = \"PATH\", type = str, default = \"../../dist/20210712_214459_formatted-data.csv\", help=\"path to csv data file\")\n",
    "args = parser.parse_args()"
   ]
  },
  {
   "cell_type": "code",
   "execution_count": null,
   "metadata": {},
   "outputs": [],
   "source": [
    "def main():\n",
    "    ''' main execution function '''\n",
    "    logging.basicConfig(\n",
    "        encoding='utf-8',\n",
    "        level=logging.INFO,\n",
    "        format=\"%(levelname)s ::: %(message)s\")\n",
    "\n",
    "    logging.info(\"starting knn.py\")\n",
    "    logging.info(\"params LIMITER=%s, K_VALUE=%s, PATH=%s\", args.LIMITER, args.K_VALUE, args.PATH)\n",
    "    start = time.time()\n",
    "\n",
    "    data_frame = read_csv(args.PATH)\n",
    "    logging.info(\n",
    "        \"read in %s records to data frame with %s features\",\n",
    "        len(data_frame),\n",
    "        len(data_frame.columns))\n",
    "\n",
    "    size = len(data_frame) // args.LIMITER\n",
    "    logging.info(\"will use %s records for MLP Classifier\", size)\n",
    "\n",
    "    subset = data_frame.iloc[:size,]\n",
    "    working_subset = clean_copy(subset)\n",
    "    predictors, target = split_data(working_subset)\n",
    "\n",
    "    logging.info(\"converting predictors and target to numpy arrays\")\n",
    "    predictors = predictors.to_numpy()\n",
    "    target = target.to_numpy()\n",
    "\n",
    "    logging.warning(\"starting KNN Regression - good luck.\")\n",
    "    results = model(\n",
    "        \"KNN Regressor, where K = \" +str(args.K_VALUE),\n",
    "        (args.K_VALUE),predictors, target)\n",
    "\n",
    "    logging.info(\"KNN Regression completed, results:\")\n",
    "    logging.info(results)\n",
    "\n",
    "    logging.info(\"updating reports.csv\")\n",
    "    save(\"../../runs/report.csv\", results)\n",
    "\n",
    "    end = time.time()\n",
    "    print(\"executed knn.py in :\", end-start)"
   ]
  },
  {
   "cell_type": "code",
   "execution_count": null,
   "metadata": {},
   "outputs": [],
   "source": [
    "def read_csv(path):\n",
    "    ''' read_csv reads csv from provided path and return dataframe '''\n",
    "    return pd.read_csv(path)"
   ]
  },
  {
   "cell_type": "code",
   "execution_count": null,
   "metadata": {},
   "outputs": [],
   "source": [
    "def clean_copy(data_frame):\n",
    "    ''' clean_copy copies the given data frame and drops player_id '''\n",
    "    wdf = data_frame.copy()\n",
    "    wdf = wdf.drop('player_id', axis=1)\n",
    "    return wdf"
   ]
  },
  {
   "cell_type": "code",
   "execution_count": null,
   "metadata": {},
   "outputs": [],
   "source": [
    "def split_data(data_frame):\n",
    "    ''' splits dataframe into predictor and target dataframes '''\n",
    "    predictors = data_frame.drop('fs_total', axis=1)\n",
    "    target = data_frame['fs_total']\n",
    "    return predictors, target\n"
   ]
  },
  {
   "cell_type": "code",
   "execution_count": null,
   "metadata": {},
   "outputs": [],
   "source": [
    "def model(description, K_VALUE, predictors, target):\n",
    "    ''' uses 5-fold cross validation to create and save MLPC model '''\n",
    "    kfold = model_selection.KFold(5, shuffle=True, random_state=2)\n",
    "\n",
    "    rmse, mse, r2 = [], [], []\n",
    "\n",
    "    for train_idx, test_idx in kfold.split(predictors):\n",
    "        predictors_train, predictors_test = predictors[train_idx], predictors[test_idx]\n",
    "        target_train, target_test = target[train_idx], target[test_idx]\n",
    "\n",
    "        knn_regression = neighbors.KNeighborsRegressor(n_neighbors=K_VALUE, weights='uniform')\n",
    "\n",
    "        knn_regression.fit(predictors_train, target_train)\n",
    "\n",
    "        rmse += [math.sqrt(np.mean((knn_regression.predict(predictors_test) - target_test) ** 2))]\n",
    "        mse += [np.mean((knn_regression.predict(predictors_test) - target_test) ** 2)]\n",
    "        r2 += [knn_regression.score(predictors_test, target_test)]\n",
    "\n",
    "    now = datetime.now()\n",
    "    current_time = now.strftime(\"%D %H:%M:%S\")\n",
    "    results = [\n",
    "        description,\n",
    "        \"{:.4f}\".format(np.mean(rmse)), # rmse\n",
    "        \"{:.4f}\".format(np.std(rmse)), # rmse variance\n",
    "        \"{:.4f}\".format(np.mean(mse)), # mse\n",
    "        \"{:.4f}\".format(np.std(mse)), # mse variance\n",
    "        \"{:.4f}\".format(np.mean(r2)), #r2\n",
    "        \"{:.4f}\".format(np.std(r2)), #r2 variance\n",
    "        \"{}\".format(len(predictors)), #num records analyzed\n",
    "        \"{}\".format(current_time) #time of execution\n",
    "    ]\n",
    "    return results\n",
    "\n"
   ]
  },
  {
   "cell_type": "code",
   "execution_count": null,
   "metadata": {},
   "outputs": [],
   "source": [
    "def save(path, contents):\n",
    "    # Open file in append mode\n",
    "    with open(path, 'a+', newline='\\n') as write_obj:\n",
    "        # Create a writer object from csv module\n",
    "        csv_writer = csv.writer(write_obj)\n",
    "        # Add contents of list as last row in the csv file\n",
    "        csv_writer.writerow(contents)\n"
   ]
  },
  {
   "cell_type": "code",
   "execution_count": null,
   "metadata": {},
   "outputs": [],
   "source": [
    "main()"
   ]
  }
 ],
 "metadata": {
  "kernelspec": {
   "display_name": "Python 3",
   "language": "python",
   "name": "python3"
  },
  "language_info": {
   "codemirror_mode": {
    "name": "ipython",
    "version": 3
   },
   "file_extension": ".py",
   "mimetype": "text/x-python",
   "name": "python",
   "nbconvert_exporter": "python",
   "pygments_lexer": "ipython3",
   "version": "3.8.5"
  }
 },
 "nbformat": 4,
 "nbformat_minor": 4
}
