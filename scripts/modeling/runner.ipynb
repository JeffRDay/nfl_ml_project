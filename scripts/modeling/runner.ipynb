{
 "cells": [
  {
   "cell_type": "markdown",
   "metadata": {},
   "source": [
    "# Runner.ipynb\n",
    "\n",
    "Runner is used to execute all model python notebooks sequentially and using specific runetime characteristics (i.e., set k in knn to a certain value). This enables many iterative executions of models to test various scenarios in a time efficient manner.The performance metrics for the models is stored in ../../runs/report.csv. Best values for K in KNN and estimators in Random Forest identified in k-test.ipynb and forest-test.ipynb respectively.\n",
    "\n",
    "Below is the diagram of this portion of the ML pipeline to illustrate the order of operations.\n",
    "\n",
    "![ML Pipeline - Model & Evaluation](../../imgs/CS5644_ML_Pipeline-modelAndexecution_small.drawio.png)"
   ]
  },
  {
   "cell_type": "code",
   "execution_count": 23,
   "metadata": {},
   "outputs": [
    {
     "name": "stderr",
     "output_type": "stream",
     "text": [
      "INFO ::: starting forest.py\n",
      "INFO ::: params LIMITER=1000, PATH=../../dist/20210712_214459_formatted-data.csv, ESTIMATORS=150\n",
      "INFO ::: read in 200596 records to data frame with 205 features\n",
      "INFO ::: will use 200 records for Random Forest Regression\n",
      "INFO ::: converting predictors and target to numpy arrays\n",
      "WARNING ::: starting Decision Tree - good luck.\n",
      "INFO ::: Random Forest Regression completed, results:\n",
      "INFO ::: ['Random Forest Regression, where n_estimators=150', '1.9104', '0.5657', '3.9698', '2.3554', '0.8824', '0.0316', '200', '12/08/21 13:51:52']\n",
      "INFO ::: updating reports.csv\n",
      "INFO ::: starting knn.py\n",
      "INFO ::: params LIMITER=2000, K_VALUE=4, PATH=../../dist/20210712_214459_formatted-data.csv\n"
     ]
    },
    {
     "name": "stdout",
     "output_type": "stream",
     "text": [
      "executed forest.py in : 3.1746950149536133\n"
     ]
    },
    {
     "name": "stderr",
     "output_type": "stream",
     "text": [
      "INFO ::: read in 200596 records to data frame with 205 features\n",
      "INFO ::: will use 100 records for MLP Classifier\n",
      "INFO ::: converting predictors and target to numpy arrays\n",
      "WARNING ::: starting KNN Regression - good luck.\n",
      "INFO ::: KNN Regression completed, results:\n",
      "INFO ::: ['KNN Regressor, where K = 4', '3.0192', '1.2816', '10.7581', '7.9238', '0.6661', '0.2437', '100', '12/08/21 13:51:54']\n",
      "INFO ::: updating reports.csv\n",
      "INFO ::: starting mlr.py\n",
      "INFO ::: params LIMITER=2000, PATH=../../dist/20210712_214459_formatted-data.csv\n"
     ]
    },
    {
     "name": "stdout",
     "output_type": "stream",
     "text": [
      "executed knn.py in : 1.8448681831359863\n"
     ]
    },
    {
     "name": "stderr",
     "output_type": "stream",
     "text": [
      "INFO ::: read in 200596 records to data frame with 205 features\n",
      "INFO ::: will use 100 records for Multiple Linear Regression\n",
      "INFO ::: converting predictors and target to numpy arrays\n",
      "WARNING ::: starting Multiple Linear Regression - good luck.\n",
      "INFO ::: Multiple Linear Regression completed, results:\n",
      "INFO ::: ['Multiple Linear Regression', '0.4911', '0.1605', '0.2670', '0.1651', '0.9892', '0.0100', '100', '12/08/21 13:51:56']\n",
      "INFO ::: updating reports.csv\n",
      "INFO ::: starting tree.py\n",
      "INFO ::: params LIMITER=2000, PATH=../../dist/20210712_214459_formatted-data.csv\n"
     ]
    },
    {
     "name": "stdout",
     "output_type": "stream",
     "text": [
      "executed mlr.py in : 1.7623093128204346\n"
     ]
    },
    {
     "name": "stderr",
     "output_type": "stream",
     "text": [
      "INFO ::: read in 200596 records to data frame with 205 features\n",
      "INFO ::: will use 100 records for Decision Tree Regression\n",
      "INFO ::: converting predictors and target to numpy arrays\n",
      "WARNING ::: starting Decision Tree - good luck.\n",
      "INFO ::: Decision Tree Regression completed, results:\n",
      "INFO ::: ['Decision Tree Regression', '2.7795', '0.5044', '7.9800', '3.1322', '0.7185', '0.0838', '100', '12/08/21 13:51:58']\n",
      "INFO ::: updating reports.csv\n",
      "INFO ::: starting mlp.py\n",
      "INFO ::: params LIMITER=2000, PATH=../../dist/20210712_214459_formatted-data.csv, LAYERS=20, LAYER_SIZE=60\n"
     ]
    },
    {
     "name": "stdout",
     "output_type": "stream",
     "text": [
      "executed tree.py in : 1.7424020767211914\n"
     ]
    },
    {
     "name": "stderr",
     "output_type": "stream",
     "text": [
      "INFO ::: read in 200596 records to data frame with 205 features\n",
      "INFO ::: will use 100 records for MLP Regressor\n",
      "INFO ::: converting predictors and target to numpy arrays\n",
      "WARNING ::: starting MLP Regressor - good luck.\n",
      "INFO ::: MLP Regressor completed, results:\n",
      "INFO ::: ['MLP Regression using Relu: 20 hidden layers with 60 nodes per layer', '0.5560', '0.4859', '6.1951', '3.9983', '0.8039', '0.0962', '100', '12/08/21 13:52:01']\n",
      "INFO ::: updating reports.csv\n",
      "INFO ::: starting forest.py\n",
      "INFO ::: params LIMITER=1000, PATH=../../dist/20210712_214459_formatted-data.csv, ESTIMATORS=150\n"
     ]
    },
    {
     "name": "stdout",
     "output_type": "stream",
     "text": [
      "executed mlp.py in : 3.2050557136535645\n"
     ]
    },
    {
     "name": "stderr",
     "output_type": "stream",
     "text": [
      "INFO ::: read in 200596 records to data frame with 205 features\n",
      "INFO ::: will use 200 records for Random Forest Regression\n",
      "INFO ::: converting predictors and target to numpy arrays\n",
      "WARNING ::: starting Decision Tree - good luck.\n",
      "INFO ::: Random Forest Regression completed, results:\n",
      "INFO ::: ['Random Forest Regression, where n_estimators=150', '1.9438', '0.5719', '4.1053', '2.4104', '0.8773', '0.0366', '200', '12/08/21 13:52:04']\n",
      "INFO ::: updating reports.csv\n",
      "INFO ::: starting knn.py\n",
      "INFO ::: params LIMITER=1500, K_VALUE=4, PATH=../../dist/20210712_214459_formatted-data.csv\n"
     ]
    },
    {
     "name": "stdout",
     "output_type": "stream",
     "text": [
      "executed forest.py in : 3.076221466064453\n"
     ]
    },
    {
     "name": "stderr",
     "output_type": "stream",
     "text": [
      "INFO ::: read in 200596 records to data frame with 205 features\n",
      "INFO ::: will use 133 records for MLP Classifier\n",
      "INFO ::: converting predictors and target to numpy arrays\n",
      "WARNING ::: starting KNN Regression - good luck.\n",
      "INFO ::: KNN Regression completed, results:\n",
      "INFO ::: ['KNN Regressor, where K = 4', '3.0047', '1.0354', '10.1003', '5.0668', '0.6380', '0.2128', '133', '12/08/21 13:52:06']\n",
      "INFO ::: updating reports.csv\n",
      "INFO ::: starting mlr.py\n",
      "INFO ::: params LIMITER=1500, PATH=../../dist/20210712_214459_formatted-data.csv\n"
     ]
    },
    {
     "name": "stdout",
     "output_type": "stream",
     "text": [
      "executed knn.py in : 1.6750800609588623\n"
     ]
    },
    {
     "name": "stderr",
     "output_type": "stream",
     "text": [
      "INFO ::: read in 200596 records to data frame with 205 features\n",
      "INFO ::: will use 133 records for Multiple Linear Regression\n",
      "INFO ::: converting predictors and target to numpy arrays\n",
      "WARNING ::: starting Multiple Linear Regression - good luck.\n",
      "INFO ::: Multiple Linear Regression completed, results:\n",
      "INFO ::: ['Multiple Linear Regression', '0.4900', '0.4852', '0.4755', '0.7973', '0.9873', '0.0188', '133', '12/08/21 13:52:08']\n",
      "INFO ::: updating reports.csv\n",
      "INFO ::: starting tree.py\n",
      "INFO ::: params LIMITER=1500, PATH=../../dist/20210712_214459_formatted-data.csv\n"
     ]
    },
    {
     "name": "stdout",
     "output_type": "stream",
     "text": [
      "executed mlr.py in : 1.7326586246490479\n"
     ]
    },
    {
     "name": "stderr",
     "output_type": "stream",
     "text": [
      "INFO ::: read in 200596 records to data frame with 205 features\n",
      "INFO ::: will use 133 records for Decision Tree Regression\n",
      "INFO ::: converting predictors and target to numpy arrays\n",
      "WARNING ::: starting Decision Tree - good luck.\n",
      "INFO ::: Decision Tree Regression completed, results:\n",
      "INFO ::: ['Decision Tree Regression', '3.0382', '1.5313', '11.5752', '7.7428', '0.5978', '0.2989', '133', '12/08/21 13:52:09']\n",
      "INFO ::: updating reports.csv\n",
      "INFO ::: starting mlp.py\n",
      "INFO ::: params LIMITER=1500, PATH=../../dist/20210712_214459_formatted-data.csv, LAYERS=20, LAYER_SIZE=60\n"
     ]
    },
    {
     "name": "stdout",
     "output_type": "stream",
     "text": [
      "executed tree.py in : 1.8673319816589355\n"
     ]
    },
    {
     "name": "stderr",
     "output_type": "stream",
     "text": [
      "INFO ::: read in 200596 records to data frame with 205 features\n",
      "INFO ::: will use 133 records for MLP Regressor\n",
      "INFO ::: converting predictors and target to numpy arrays\n",
      "WARNING ::: starting MLP Regressor - good luck.\n",
      "INFO ::: MLP Regressor completed, results:\n",
      "INFO ::: ['MLP Regression using Relu: 20 hidden layers with 60 nodes per layer', '0.3430', '0.4996', '5.8056', '4.1032', '0.8042', '0.0894', '133', '12/08/21 13:52:12']\n",
      "INFO ::: updating reports.csv\n"
     ]
    },
    {
     "name": "stdout",
     "output_type": "stream",
     "text": [
      "executed mlp.py in : 3.0089879035949707\n"
     ]
    }
   ],
   "source": [
    "'''\n",
    "    !!! WARNING WARNING WARNING !!!\n",
    "\n",
    "Setting the limiter value to less than 50 may lead to exceptionally long run times!\n",
    "'''\n",
    "limiter_values = [2000,1500]\n",
    "for i in limiter_values:\n",
    "    %run ./forest.py -e 150\n",
    "    %run ./knn.py --limiter $i -k 4\n",
    "    %run ./mlr.py --limiter $i\n",
    "    %run ./tree.py --limiter $i\n",
    "    %run ./mlp.py --limiter $i"
   ]
  }
 ],
 "metadata": {
  "interpreter": {
   "hash": "31f2aee4e71d21fbe5cf8b01ff0e069b9275f58929596ceb00d14d90e3e16cd6"
  },
  "kernelspec": {
   "display_name": "Python 3.7.3 64-bit",
   "language": "python",
   "name": "python3"
  },
  "language_info": {
   "codemirror_mode": {
    "name": "ipython",
    "version": 3
   },
   "file_extension": ".py",
   "mimetype": "text/x-python",
   "name": "python",
   "nbconvert_exporter": "python",
   "pygments_lexer": "ipython3",
   "version": "3.8.5"
  },
  "orig_nbformat": 4
 },
 "nbformat": 4,
 "nbformat_minor": 2
}
